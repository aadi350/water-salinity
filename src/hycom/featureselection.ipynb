{
 "cells": [
  {
   "cell_type": "code",
   "execution_count": 28,
   "id": "7a954bf2-1aa0-4e5a-834d-9bae0f943b38",
   "metadata": {
    "execution": {
     "iopub.execute_input": "2021-07-05T17:05:03.798601Z",
     "iopub.status.busy": "2021-07-05T17:05:03.798389Z",
     "iopub.status.idle": "2021-07-05T17:05:03.803777Z",
     "shell.execute_reply": "2021-07-05T17:05:03.803056Z",
     "shell.execute_reply.started": "2021-07-05T17:05:03.798580Z"
    },
    "tags": []
   },
   "outputs": [],
   "source": [
    "import cudf\n",
    "import cupy as cp\n",
    "import plotly.graph_objects as go\n",
    "import datashader as ds\n",
    "import colorcet\n",
    "import os\n",
    "\n",
    "# Visualisation Imports\n",
    "import numpy as np\n",
    "import xarray as xr\n",
    "# datashader\n",
    "import datashader as ds\n",
    "import datashader.transfer_functions as tf\n",
    "from datashader.transfer_functions import shade\n",
    "from datashader.transfer_functions import stack\n",
    "from datashader.transfer_functions import dynspread\n",
    "from datashader.transfer_functions import set_background\n",
    "from datashader.transfer_functions import Images, Image\n",
    "from datashader.colors import Elevation\n",
    "from datashader.utils import orient_array\n",
    "\n",
    "# holoviews\n",
    "import holoviews as hv\n",
    "from holoviews.plotting.plotly.dash import to_dash\n",
    "from holoviews.element.tiles import CartoDark\n",
    "from holoviews.operation.datashader import datashade, shade, dynspread, spread, rasterize\n",
    "from holoviews.operation import decimate\n",
    "\n",
    "# plotly\n",
    "from plotly.colors import sequential\n",
    "from plotly.subplots import make_subplots\n",
    "\n",
    "# Dash Import\n",
    "import dash\n",
    "import dash_html_components as html\n",
    "from jupyter_dash import JupyterDash\n",
    "\n",
    "#statsmodels\n",
    "import statsmodels as sm\n",
    "from statsmodels.regression import linear_model\n",
    "import pandas as pd\n",
    "from sklearn.preprocessing import PolynomialFeatures"
   ]
  },
  {
   "cell_type": "code",
   "execution_count": 2,
   "id": "2569c9f9-fd24-4744-8819-ba3f12e287cd",
   "metadata": {
    "execution": {
     "iopub.execute_input": "2021-07-05T16:54:14.130538Z",
     "iopub.status.busy": "2021-07-05T16:54:14.129941Z",
     "iopub.status.idle": "2021-07-05T16:54:22.859323Z",
     "shell.execute_reply": "2021-07-05T16:54:22.858859Z",
     "shell.execute_reply.started": "2021-07-05T16:54:14.130465Z"
    },
    "tags": []
   },
   "outputs": [
    {
     "data": {
      "text/html": [
       "<div>\n",
       "<style scoped>\n",
       "    .dataframe tbody tr th:only-of-type {\n",
       "        vertical-align: middle;\n",
       "    }\n",
       "\n",
       "    .dataframe tbody tr th {\n",
       "        vertical-align: top;\n",
       "    }\n",
       "\n",
       "    .dataframe thead th {\n",
       "        text-align: right;\n",
       "    }\n",
       "</style>\n",
       "<table border=\"1\" class=\"dataframe\">\n",
       "  <thead>\n",
       "    <tr style=\"text-align: right;\">\n",
       "      <th></th>\n",
       "      <th>start_date</th>\n",
       "      <th>lat</th>\n",
       "      <th>lon</th>\n",
       "      <th>water_temp_0</th>\n",
       "      <th>salinity_0</th>\n",
       "      <th>water_temp_2</th>\n",
       "      <th>salinity_2</th>\n",
       "      <th>water_temp_4</th>\n",
       "      <th>salinity_4</th>\n",
       "      <th>water_temp_6</th>\n",
       "      <th>...</th>\n",
       "      <th>xCO2_ATM_interpolated_ppm</th>\n",
       "      <th>PRES_EQU_hPa</th>\n",
       "      <th>PRES_ATM@SSP_hPa</th>\n",
       "      <th>TEMP_EQU_C</th>\n",
       "      <th>SST_C</th>\n",
       "      <th>SAL_permil</th>\n",
       "      <th>fCO2_SW@SST_uatm</th>\n",
       "      <th>fCO2_ATM_interpolated_uatm</th>\n",
       "      <th>dfCO2_uatm</th>\n",
       "      <th>WOCE_QC_FLAG</th>\n",
       "    </tr>\n",
       "  </thead>\n",
       "  <tbody>\n",
       "    <tr>\n",
       "      <th>0</th>\n",
       "      <td>2019-11-19</td>\n",
       "      <td>19.0418</td>\n",
       "      <td>-87.4192</td>\n",
       "      <td>28.641375</td>\n",
       "      <td>36.191375</td>\n",
       "      <td>28.48175</td>\n",
       "      <td>36.194000</td>\n",
       "      <td>28.490375</td>\n",
       "      <td>36.193750</td>\n",
       "      <td>28.494625</td>\n",
       "      <td>...</td>\n",
       "      <td>410.81</td>\n",
       "      <td>1014.72</td>\n",
       "      <td>1013.5662</td>\n",
       "      <td>29.14</td>\n",
       "      <td>29.1692</td>\n",
       "      <td>36.2848</td>\n",
       "      <td>410.02</td>\n",
       "      <td>393.66</td>\n",
       "      <td>16.36</td>\n",
       "      <td>2.0</td>\n",
       "    </tr>\n",
       "    <tr>\n",
       "      <th>1</th>\n",
       "      <td>2020-01-21</td>\n",
       "      <td>18.3305</td>\n",
       "      <td>-65.1468</td>\n",
       "      <td>26.471600</td>\n",
       "      <td>35.826667</td>\n",
       "      <td>26.42980</td>\n",
       "      <td>35.825867</td>\n",
       "      <td>26.429333</td>\n",
       "      <td>35.828200</td>\n",
       "      <td>26.426533</td>\n",
       "      <td>...</td>\n",
       "      <td>417.55</td>\n",
       "      <td>1015.40</td>\n",
       "      <td>1014.5055</td>\n",
       "      <td>27.25</td>\n",
       "      <td>27.3215</td>\n",
       "      <td>35.3726</td>\n",
       "      <td>390.25</td>\n",
       "      <td>402.13</td>\n",
       "      <td>-11.88</td>\n",
       "      <td>2.0</td>\n",
       "    </tr>\n",
       "    <tr>\n",
       "      <th>2</th>\n",
       "      <td>2019-07-31</td>\n",
       "      <td>19.7638</td>\n",
       "      <td>-87.1375</td>\n",
       "      <td>29.324125</td>\n",
       "      <td>36.082625</td>\n",
       "      <td>29.24825</td>\n",
       "      <td>36.083875</td>\n",
       "      <td>29.235125</td>\n",
       "      <td>36.083500</td>\n",
       "      <td>29.218875</td>\n",
       "      <td>...</td>\n",
       "      <td>410.89</td>\n",
       "      <td>1014.90</td>\n",
       "      <td>1014.5565</td>\n",
       "      <td>29.98</td>\n",
       "      <td>29.7258</td>\n",
       "      <td>36.2400</td>\n",
       "      <td>435.94</td>\n",
       "      <td>393.63</td>\n",
       "      <td>42.32</td>\n",
       "      <td>2.0</td>\n",
       "    </tr>\n",
       "    <tr>\n",
       "      <th>3</th>\n",
       "      <td>2019-09-13</td>\n",
       "      <td>25.9173</td>\n",
       "      <td>-79.9605</td>\n",
       "      <td>29.782625</td>\n",
       "      <td>36.122750</td>\n",
       "      <td>29.79925</td>\n",
       "      <td>36.123500</td>\n",
       "      <td>29.802750</td>\n",
       "      <td>36.124125</td>\n",
       "      <td>29.803750</td>\n",
       "      <td>...</td>\n",
       "      <td>414.53</td>\n",
       "      <td>1012.47</td>\n",
       "      <td>1011.9442</td>\n",
       "      <td>29.88</td>\n",
       "      <td>29.9378</td>\n",
       "      <td>35.4666</td>\n",
       "      <td>413.24</td>\n",
       "      <td>395.84</td>\n",
       "      <td>17.40</td>\n",
       "      <td>2.0</td>\n",
       "    </tr>\n",
       "    <tr>\n",
       "      <th>4</th>\n",
       "      <td>2019-08-11</td>\n",
       "      <td>23.2150</td>\n",
       "      <td>-83.5792</td>\n",
       "      <td>30.861500</td>\n",
       "      <td>36.154125</td>\n",
       "      <td>30.54200</td>\n",
       "      <td>36.152875</td>\n",
       "      <td>30.412500</td>\n",
       "      <td>36.150375</td>\n",
       "      <td>30.245500</td>\n",
       "      <td>...</td>\n",
       "      <td>417.82</td>\n",
       "      <td>1017.40</td>\n",
       "      <td>1017.0594</td>\n",
       "      <td>30.57</td>\n",
       "      <td>30.6395</td>\n",
       "      <td>36.3900</td>\n",
       "      <td>442.06</td>\n",
       "      <td>400.40</td>\n",
       "      <td>41.66</td>\n",
       "      <td>2.0</td>\n",
       "    </tr>\n",
       "  </tbody>\n",
       "</table>\n",
       "<p>5 rows × 26 columns</p>\n",
       "</div>"
      ],
      "text/plain": [
       "   start_date      lat      lon  water_temp_0  salinity_0  water_temp_2  \\\n",
       "0  2019-11-19  19.0418 -87.4192     28.641375   36.191375      28.48175   \n",
       "1  2020-01-21  18.3305 -65.1468     26.471600   35.826667      26.42980   \n",
       "2  2019-07-31  19.7638 -87.1375     29.324125   36.082625      29.24825   \n",
       "3  2019-09-13  25.9173 -79.9605     29.782625   36.122750      29.79925   \n",
       "4  2019-08-11  23.2150 -83.5792     30.861500   36.154125      30.54200   \n",
       "\n",
       "   salinity_2  water_temp_4  salinity_4  water_temp_6  ...  \\\n",
       "0   36.194000     28.490375   36.193750     28.494625  ...   \n",
       "1   35.825867     26.429333   35.828200     26.426533  ...   \n",
       "2   36.083875     29.235125   36.083500     29.218875  ...   \n",
       "3   36.123500     29.802750   36.124125     29.803750  ...   \n",
       "4   36.152875     30.412500   36.150375     30.245500  ...   \n",
       "\n",
       "   xCO2_ATM_interpolated_ppm  PRES_EQU_hPa  PRES_ATM@SSP_hPa  TEMP_EQU_C  \\\n",
       "0                     410.81       1014.72         1013.5662       29.14   \n",
       "1                     417.55       1015.40         1014.5055       27.25   \n",
       "2                     410.89       1014.90         1014.5565       29.98   \n",
       "3                     414.53       1012.47         1011.9442       29.88   \n",
       "4                     417.82       1017.40         1017.0594       30.57   \n",
       "\n",
       "     SST_C  SAL_permil  fCO2_SW@SST_uatm  fCO2_ATM_interpolated_uatm  \\\n",
       "0  29.1692     36.2848            410.02                      393.66   \n",
       "1  27.3215     35.3726            390.25                      402.13   \n",
       "2  29.7258     36.2400            435.94                      393.63   \n",
       "3  29.9378     35.4666            413.24                      395.84   \n",
       "4  30.6395     36.3900            442.06                      400.40   \n",
       "\n",
       "   dfCO2_uatm  WOCE_QC_FLAG  \n",
       "0       16.36           2.0  \n",
       "1      -11.88           2.0  \n",
       "2       42.32           2.0  \n",
       "3       17.40           2.0  \n",
       "4       41.66           2.0  \n",
       "\n",
       "[5 rows x 26 columns]"
      ]
     },
     "execution_count": 2,
     "metadata": {},
     "output_type": "execute_result"
    }
   ],
   "source": [
    "DATA_PATH = '../../data/hycom'\n",
    "RES_PATH = '../../results/hycom'\n",
    "\n",
    "df = cudf.read_csv(os.path.join(RES_PATH, 'hycom_equinox_merged-201920.csv'))\n",
    "\n",
    "# filter to only valid measurements\n",
    "df = df[df['WOCE_QC_FLAG'] == 2]\n",
    "df.head()"
   ]
  },
  {
   "cell_type": "markdown",
   "id": "f9ed61e0-0779-4e53-a9e0-1291971c4c3f",
   "metadata": {},
   "source": [
    "\n",
    "## Exploring Interaction between Sentinel (Satellite Data) on ground-truth labels (Equinox)\n",
    "\n",
    "Dropping date, lat and lon since these are (from literature) expected to induce multi-collinearity"
   ]
  },
  {
   "cell_type": "code",
   "execution_count": 3,
   "id": "528c25a1-8fea-4357-907e-5dfddadd5cf6",
   "metadata": {
    "execution": {
     "iopub.execute_input": "2021-07-05T16:54:22.860711Z",
     "iopub.status.busy": "2021-07-05T16:54:22.860458Z",
     "iopub.status.idle": "2021-07-05T16:54:22.909308Z",
     "shell.execute_reply": "2021-07-05T16:54:22.908558Z",
     "shell.execute_reply.started": "2021-07-05T16:54:22.860669Z"
    },
    "tags": []
   },
   "outputs": [
    {
     "data": {
      "text/html": [
       "<div>\n",
       "<style scoped>\n",
       "    .dataframe tbody tr th:only-of-type {\n",
       "        vertical-align: middle;\n",
       "    }\n",
       "\n",
       "    .dataframe tbody tr th {\n",
       "        vertical-align: top;\n",
       "    }\n",
       "\n",
       "    .dataframe thead th {\n",
       "        text-align: right;\n",
       "    }\n",
       "</style>\n",
       "<table border=\"1\" class=\"dataframe\">\n",
       "  <thead>\n",
       "    <tr style=\"text-align: right;\">\n",
       "      <th></th>\n",
       "      <th>water_temp_0</th>\n",
       "      <th>salinity_0</th>\n",
       "      <th>water_temp_2</th>\n",
       "      <th>salinity_2</th>\n",
       "      <th>water_temp_4</th>\n",
       "      <th>salinity_4</th>\n",
       "      <th>water_temp_6</th>\n",
       "      <th>salinity_6</th>\n",
       "      <th>water_temp_8</th>\n",
       "      <th>salinity_8</th>\n",
       "      <th>xCO2_EQU_ppm</th>\n",
       "      <th>xCO2_ATM_interpolated_ppm</th>\n",
       "      <th>PRES_EQU_hPa</th>\n",
       "      <th>PRES_ATM@SSP_hPa</th>\n",
       "      <th>TEMP_EQU_C</th>\n",
       "      <th>SST_C</th>\n",
       "      <th>SAL_permil</th>\n",
       "      <th>fCO2_SW@SST_uatm</th>\n",
       "      <th>fCO2_ATM_interpolated_uatm</th>\n",
       "      <th>dfCO2_uatm</th>\n",
       "    </tr>\n",
       "  </thead>\n",
       "  <tbody>\n",
       "    <tr>\n",
       "      <th>0</th>\n",
       "      <td>28.641375</td>\n",
       "      <td>36.191375</td>\n",
       "      <td>28.48175</td>\n",
       "      <td>36.194000</td>\n",
       "      <td>28.490375</td>\n",
       "      <td>36.193750</td>\n",
       "      <td>28.494625</td>\n",
       "      <td>36.193500</td>\n",
       "      <td>28.495625</td>\n",
       "      <td>36.193250</td>\n",
       "      <td>426.816</td>\n",
       "      <td>410.81</td>\n",
       "      <td>1014.72</td>\n",
       "      <td>1013.5662</td>\n",
       "      <td>29.14</td>\n",
       "      <td>29.1692</td>\n",
       "      <td>36.2848</td>\n",
       "      <td>410.02</td>\n",
       "      <td>393.66</td>\n",
       "      <td>16.36</td>\n",
       "    </tr>\n",
       "    <tr>\n",
       "      <th>1</th>\n",
       "      <td>26.471600</td>\n",
       "      <td>35.826667</td>\n",
       "      <td>26.42980</td>\n",
       "      <td>35.825867</td>\n",
       "      <td>26.429333</td>\n",
       "      <td>35.828200</td>\n",
       "      <td>26.426533</td>\n",
       "      <td>35.830333</td>\n",
       "      <td>26.422667</td>\n",
       "      <td>35.832533</td>\n",
       "      <td>403.554</td>\n",
       "      <td>417.55</td>\n",
       "      <td>1015.40</td>\n",
       "      <td>1014.5055</td>\n",
       "      <td>27.25</td>\n",
       "      <td>27.3215</td>\n",
       "      <td>35.3726</td>\n",
       "      <td>390.25</td>\n",
       "      <td>402.13</td>\n",
       "      <td>-11.88</td>\n",
       "    </tr>\n",
       "    <tr>\n",
       "      <th>2</th>\n",
       "      <td>29.324125</td>\n",
       "      <td>36.082625</td>\n",
       "      <td>29.24825</td>\n",
       "      <td>36.083875</td>\n",
       "      <td>29.235125</td>\n",
       "      <td>36.083500</td>\n",
       "      <td>29.218875</td>\n",
       "      <td>36.083000</td>\n",
       "      <td>29.198750</td>\n",
       "      <td>36.082250</td>\n",
       "      <td>460.100</td>\n",
       "      <td>410.89</td>\n",
       "      <td>1014.90</td>\n",
       "      <td>1014.5565</td>\n",
       "      <td>29.98</td>\n",
       "      <td>29.7258</td>\n",
       "      <td>36.2400</td>\n",
       "      <td>435.94</td>\n",
       "      <td>393.63</td>\n",
       "      <td>42.32</td>\n",
       "    </tr>\n",
       "    <tr>\n",
       "      <th>3</th>\n",
       "      <td>29.782625</td>\n",
       "      <td>36.122750</td>\n",
       "      <td>29.79925</td>\n",
       "      <td>36.123500</td>\n",
       "      <td>29.802750</td>\n",
       "      <td>36.124125</td>\n",
       "      <td>29.803750</td>\n",
       "      <td>36.124375</td>\n",
       "      <td>29.803375</td>\n",
       "      <td>36.124375</td>\n",
       "      <td>431.397</td>\n",
       "      <td>414.53</td>\n",
       "      <td>1012.47</td>\n",
       "      <td>1011.9442</td>\n",
       "      <td>29.88</td>\n",
       "      <td>29.9378</td>\n",
       "      <td>35.4666</td>\n",
       "      <td>413.24</td>\n",
       "      <td>395.84</td>\n",
       "      <td>17.40</td>\n",
       "    </tr>\n",
       "    <tr>\n",
       "      <th>4</th>\n",
       "      <td>30.861500</td>\n",
       "      <td>36.154125</td>\n",
       "      <td>30.54200</td>\n",
       "      <td>36.152875</td>\n",
       "      <td>30.412500</td>\n",
       "      <td>36.150375</td>\n",
       "      <td>30.245500</td>\n",
       "      <td>36.148625</td>\n",
       "      <td>29.899750</td>\n",
       "      <td>36.150000</td>\n",
       "      <td>459.698</td>\n",
       "      <td>417.82</td>\n",
       "      <td>1017.40</td>\n",
       "      <td>1017.0594</td>\n",
       "      <td>30.57</td>\n",
       "      <td>30.6395</td>\n",
       "      <td>36.3900</td>\n",
       "      <td>442.06</td>\n",
       "      <td>400.40</td>\n",
       "      <td>41.66</td>\n",
       "    </tr>\n",
       "  </tbody>\n",
       "</table>\n",
       "</div>"
      ],
      "text/plain": [
       "   water_temp_0  salinity_0  water_temp_2  salinity_2  water_temp_4  \\\n",
       "0     28.641375   36.191375      28.48175   36.194000     28.490375   \n",
       "1     26.471600   35.826667      26.42980   35.825867     26.429333   \n",
       "2     29.324125   36.082625      29.24825   36.083875     29.235125   \n",
       "3     29.782625   36.122750      29.79925   36.123500     29.802750   \n",
       "4     30.861500   36.154125      30.54200   36.152875     30.412500   \n",
       "\n",
       "   salinity_4  water_temp_6  salinity_6  water_temp_8  salinity_8  \\\n",
       "0   36.193750     28.494625   36.193500     28.495625   36.193250   \n",
       "1   35.828200     26.426533   35.830333     26.422667   35.832533   \n",
       "2   36.083500     29.218875   36.083000     29.198750   36.082250   \n",
       "3   36.124125     29.803750   36.124375     29.803375   36.124375   \n",
       "4   36.150375     30.245500   36.148625     29.899750   36.150000   \n",
       "\n",
       "   xCO2_EQU_ppm  xCO2_ATM_interpolated_ppm  PRES_EQU_hPa  PRES_ATM@SSP_hPa  \\\n",
       "0       426.816                     410.81       1014.72         1013.5662   \n",
       "1       403.554                     417.55       1015.40         1014.5055   \n",
       "2       460.100                     410.89       1014.90         1014.5565   \n",
       "3       431.397                     414.53       1012.47         1011.9442   \n",
       "4       459.698                     417.82       1017.40         1017.0594   \n",
       "\n",
       "   TEMP_EQU_C    SST_C  SAL_permil  fCO2_SW@SST_uatm  \\\n",
       "0       29.14  29.1692     36.2848            410.02   \n",
       "1       27.25  27.3215     35.3726            390.25   \n",
       "2       29.98  29.7258     36.2400            435.94   \n",
       "3       29.88  29.9378     35.4666            413.24   \n",
       "4       30.57  30.6395     36.3900            442.06   \n",
       "\n",
       "   fCO2_ATM_interpolated_uatm  dfCO2_uatm  \n",
       "0                      393.66       16.36  \n",
       "1                      402.13      -11.88  \n",
       "2                      393.63       42.32  \n",
       "3                      395.84       17.40  \n",
       "4                      400.40       41.66  "
      ]
     },
     "execution_count": 3,
     "metadata": {},
     "output_type": "execute_result"
    }
   ],
   "source": [
    "df.drop(['start_date', 'lat', 'lon', 'WOCE_QC_FLAG', 'easting', 'northing'], axis=1, inplace=True)\n",
    "df.head()"
   ]
  },
  {
   "cell_type": "markdown",
   "id": "3d7255e5-cf1b-4ef1-9529-a55c4aea28bc",
   "metadata": {},
   "source": [
    "### Interaction Model Printing Funcitons"
   ]
  },
  {
   "cell_type": "code",
   "execution_count": 102,
   "id": "260c90db-43c9-475f-a872-93602ab70613",
   "metadata": {
    "execution": {
     "iopub.execute_input": "2021-07-05T17:45:30.066577Z",
     "iopub.status.busy": "2021-07-05T17:45:30.066350Z",
     "iopub.status.idle": "2021-07-05T17:45:30.072128Z",
     "shell.execute_reply": "2021-07-05T17:45:30.071563Z",
     "shell.execute_reply.started": "2021-07-05T17:45:30.066557Z"
    },
    "tags": []
   },
   "outputs": [],
   "source": [
    "X_col_names = ['water_temp_0', 'salinity_0', 'water_temp_2', 'salinity_2', 'water_temp_4', 'salinity_4', 'water_temp_6', 'salinity_6', 'water_temp_8', 'salinity_8']\n",
    "\n",
    "\n",
    "def fit_model(df, pred_col, limit=True):\n",
    "    \n",
    "    df = df.dropna()\n",
    "    \n",
    "    X = df[X_col_names].to_pandas()\n",
    "    y = df[[pred_col]].to_pandas()\n",
    "    \n",
    "    X = sm.tools.tools.add_constant(X)\n",
    "    model = linear_model.OLS(y, X).fit()\n",
    "    if limit:\n",
    "        model = model.pvalues[model.pvalues <= 0.05]\n",
    "        return model.sort_values()\n",
    "    else:\n",
    "        return model\n",
    "    \n",
    "def fit_interaction_model(df, pred_col, limit=True):\n",
    "    \n",
    "    df = df.dropna()\n",
    "    \n",
    "    X = df[X_col_names]\n",
    "    y = df[[pred_col]]\n",
    "    poly_features = PolynomialFeatures(2, interaction_only=True, include_bias=False) \n",
    "    X_inter = poly_features.fit_transform(X.as_gpu_matrix())\n",
    "    X_df = cudf.DataFrame(X_inter, columns=poly_features.get_feature_names(X.columns))\n",
    "    \n",
    "    X_df = sm.tools.tools.add_constant(X_df.to_pandas())\n",
    "    inter_model = linear_model.OLS(y.to_pandas().values, X_df).fit()\n",
    "    if limit:\n",
    "        inter_model = inter_model.pvalues[inter_model.pvalues < 0.05]\n",
    "        print(inter_model.sort_values())\n",
    "    else:\n",
    "        print(inter_model.summary())\n",
    "    \n",
    "    return inter_model\n",
    "    "
   ]
  },
  {
   "cell_type": "markdown",
   "id": "f37c4c91-fda6-47c4-b4ff-46ff2c2ce710",
   "metadata": {},
   "source": [
    "## Single-Feature Predictions\n",
    "Output is of the form: predictor, p-value"
   ]
  },
  {
   "cell_type": "code",
   "execution_count": 75,
   "id": "291d432f-b656-4251-9358-229393876c0b",
   "metadata": {
    "execution": {
     "iopub.execute_input": "2021-07-05T17:25:14.671770Z",
     "iopub.status.busy": "2021-07-05T17:25:14.671493Z",
     "iopub.status.idle": "2021-07-05T17:25:14.797031Z",
     "shell.execute_reply": "2021-07-05T17:25:14.796387Z",
     "shell.execute_reply.started": "2021-07-05T17:25:14.671729Z"
    }
   },
   "outputs": [
    {
     "data": {
      "text/plain": [
       "salinity_0      0.000052\n",
       "salinity_2      0.001207\n",
       "water_temp_8    0.008830\n",
       "dtype: float64"
      ]
     },
     "execution_count": 75,
     "metadata": {},
     "output_type": "execute_result"
    }
   ],
   "source": [
    "fit_model(df, 'xCO2_ATM_interpolated_ppm', True)"
   ]
  },
  {
   "cell_type": "code",
   "execution_count": 76,
   "id": "0bf5b425-4a20-4f73-a917-706669f44107",
   "metadata": {
    "execution": {
     "iopub.execute_input": "2021-07-05T17:25:14.829296Z",
     "iopub.status.busy": "2021-07-05T17:25:14.828976Z",
     "iopub.status.idle": "2021-07-05T17:25:14.972566Z",
     "shell.execute_reply": "2021-07-05T17:25:14.971117Z",
     "shell.execute_reply.started": "2021-07-05T17:25:14.829260Z"
    }
   },
   "outputs": [
    {
     "data": {
      "text/plain": [
       "salinity_0      0.000129\n",
       "const           0.000152\n",
       "salinity_2      0.001932\n",
       "water_temp_8    0.013583\n",
       "dtype: float64"
      ]
     },
     "execution_count": 76,
     "metadata": {},
     "output_type": "execute_result"
    }
   ],
   "source": [
    "fit_model(df, 'PRES_EQU_hPa', True)"
   ]
  },
  {
   "cell_type": "code",
   "execution_count": 77,
   "id": "fee27187-b4f3-47d0-87ff-9a3b7e58945e",
   "metadata": {
    "execution": {
     "iopub.execute_input": "2021-07-05T17:25:14.974835Z",
     "iopub.status.busy": "2021-07-05T17:25:14.974259Z",
     "iopub.status.idle": "2021-07-05T17:25:15.132525Z",
     "shell.execute_reply": "2021-07-05T17:25:15.131885Z",
     "shell.execute_reply.started": "2021-07-05T17:25:14.974791Z"
    }
   },
   "outputs": [
    {
     "data": {
      "text/plain": [
       "salinity_0      0.000123\n",
       "const           0.000205\n",
       "salinity_2      0.001909\n",
       "water_temp_8    0.012874\n",
       "dtype: float64"
      ]
     },
     "execution_count": 77,
     "metadata": {},
     "output_type": "execute_result"
    }
   ],
   "source": [
    "fit_model(df, 'PRES_ATM@SSP_hPa', True)"
   ]
  },
  {
   "cell_type": "code",
   "execution_count": 78,
   "id": "91409603-c07a-4a03-a12a-137033b8698c",
   "metadata": {
    "execution": {
     "iopub.execute_input": "2021-07-05T17:25:15.134815Z",
     "iopub.status.busy": "2021-07-05T17:25:15.133746Z",
     "iopub.status.idle": "2021-07-05T17:25:15.258057Z",
     "shell.execute_reply": "2021-07-05T17:25:15.257437Z",
     "shell.execute_reply.started": "2021-07-05T17:25:15.134785Z"
    }
   },
   "outputs": [
    {
     "data": {
      "text/plain": [
       "const           0.000059\n",
       "salinity_0      0.000110\n",
       "salinity_2      0.001892\n",
       "water_temp_8    0.009946\n",
       "dtype: float64"
      ]
     },
     "execution_count": 78,
     "metadata": {},
     "output_type": "execute_result"
    }
   ],
   "source": [
    "fit_model(df, 'fCO2_SW@SST_uatm', True)"
   ]
  },
  {
   "cell_type": "code",
   "execution_count": 79,
   "id": "e935ade7-f323-41c4-a11c-d14c3ff07d60",
   "metadata": {
    "execution": {
     "iopub.execute_input": "2021-07-05T17:25:15.661225Z",
     "iopub.status.busy": "2021-07-05T17:25:15.660558Z",
     "iopub.status.idle": "2021-07-05T17:25:15.760575Z",
     "shell.execute_reply": "2021-07-05T17:25:15.759777Z",
     "shell.execute_reply.started": "2021-07-05T17:25:15.661143Z"
    }
   },
   "outputs": [
    {
     "data": {
      "text/plain": [
       "salinity_0      0.000046\n",
       "salinity_2      0.001235\n",
       "water_temp_8    0.007390\n",
       "water_temp_6    0.048018\n",
       "dtype: float64"
      ]
     },
     "execution_count": 79,
     "metadata": {},
     "output_type": "execute_result"
    }
   ],
   "source": [
    "fit_model(df, 'fCO2_ATM_interpolated_uatm', True)"
   ]
  },
  {
   "cell_type": "code",
   "execution_count": 80,
   "id": "c50ca9a8-9c6f-46f4-a280-deda7610326a",
   "metadata": {
    "execution": {
     "iopub.execute_input": "2021-07-05T17:25:17.732081Z",
     "iopub.status.busy": "2021-07-05T17:25:17.731886Z",
     "iopub.status.idle": "2021-07-05T17:25:17.869226Z",
     "shell.execute_reply": "2021-07-05T17:25:17.868354Z",
     "shell.execute_reply.started": "2021-07-05T17:25:17.732062Z"
    },
    "tags": []
   },
   "outputs": [
    {
     "data": {
      "text/plain": [
       "const           3.307076e-22\n",
       "salinity_0      4.021092e-04\n",
       "salinity_2      3.139747e-03\n",
       "water_temp_8    2.594908e-02\n",
       "dtype: float64"
      ]
     },
     "execution_count": 80,
     "metadata": {},
     "output_type": "execute_result"
    }
   ],
   "source": [
    "fit_model(df, 'dfCO2_uatm', True)"
   ]
  },
  {
   "cell_type": "markdown",
   "id": "b9791e34-ea8b-42c8-97d0-4c5b9732f7a4",
   "metadata": {},
   "source": [
    "## Interaction Columns"
   ]
  },
  {
   "cell_type": "code",
   "execution_count": null,
   "id": "d885187d-f267-486a-a124-f990d9fe2ff0",
   "metadata": {},
   "outputs": [],
   "source": [
    "df = df.dropna()\n",
    "\n",
    "X = df[X_col_names]\n",
    "\n",
    "equinox_col_names = dict({\n",
    "    'xCO2_EQU_ppm': 'Mole fraction of CO2 in the equilibrator headspace (ppm)', \n",
    "    'xCO2_ATM_interpolated_ppm': 'Mole fraction of CO2 measured in dry outside air (ppm)',\n",
    "    'PRES_EQU_hPa': 'Barometric pressure in the equilibrator headspace (hPa)', \n",
    "    'PRES_ATM@SSP_hPa':  'Barometric pressure measured outside, corrected to sea level (hPa)',\n",
    "    'TEMP_EQU_C': 'Water temperature in equilibrator (°C)', \n",
    "    'SST_C': 'Sea surface temperature (°C)',\n",
    "    'SAL_permil': 'Sea surface salinity on Practical Salinity Scale (ppt)',\n",
    "    'fCO2_SW@SST_uatm': 'Fugacity of CO2 in sea water at SST and 100% humidity (μatm)',\n",
    "    'fCO2_ATM_interpolated_uatm': 'Fugacity of CO2 in air corresponding to the interpolated xCO2 at SST and 100% humidity (μatm)',\n",
    "    'dfCO2_uatm': 'Sea water fCO2 minus interpolated air fCO2 (μatm)' ,\n",
    "    })\n",
    "\n",
    "\n",
    "poly_features = PolynomialFeatures(2, interaction_only=True, include_bias=False) \n",
    "X_inter = poly_features.fit_transform(X.as_gpu_matrix())\n",
    "X_inter_cols = poly_features.get_feature_names(X.columns)\n",
    "X_df = cudf.DataFrame(X_inter, columns=poly_features.get_feature_names(X.columns))\n",
    "\n",
    "\n",
    "def plot_correlation(df, hycom_col):\n",
    "    graph_list = []\n",
    "    \n",
    "    data = pd.concat([X_df.to_pandas(), df[hycom_col].to_pandas()], axis=1)    \n",
    "    hv_data = hv.Dataset(data)\n",
    "    \n",
    "    for idx, col in enumerate(X_inter_cols):\n",
    "        scatter = hv.Scatter(hv_data, kdims=col, vdims=hycom_col).opts(width=600, height=400, title=equinox_col_names[hycom_col])\n",
    "        scatter.redim(y=hv.Dimension(col))\n",
    "        shaded = decimate(scatter, y_range=(0, data[hycom_col].max())).opts(width=600,  height=400)\n",
    "        graph_list.append(shaded)\n",
    "        del scatter\n",
    "        \n",
    "    layout = hv.Layout(graph_list).cols(2)\n",
    "    return layout\n",
    "    \n",
    "\n",
    "plot_correlation(df, 'xCO2_EQU_ppm')"
   ]
  },
  {
   "cell_type": "code",
   "execution_count": null,
   "id": "974a33e1-7433-43b3-999b-ca7a6259e5dd",
   "metadata": {},
   "outputs": [],
   "source": [
    "plot_correlation(df, 'xCO2_ATM_interpolated_ppm')"
   ]
  },
  {
   "cell_type": "code",
   "execution_count": null,
   "id": "3efa0f46-8804-43f3-a394-f9e5177996a7",
   "metadata": {},
   "outputs": [],
   "source": [
    "plot_correlation(df, 'dfCO2_uatm')"
   ]
  },
  {
   "cell_type": "markdown",
   "id": "676f9fab-d41e-403d-9387-4458d9ed265a",
   "metadata": {},
   "source": [
    "### Fitting Interaction Models\n"
   ]
  },
  {
   "cell_type": "code",
   "execution_count": 34,
   "id": "73483dd3-4041-471d-8dc4-51f8862a7730",
   "metadata": {
    "execution": {
     "iopub.execute_input": "2021-07-05T17:06:03.873006Z",
     "iopub.status.busy": "2021-07-05T17:06:03.872813Z",
     "iopub.status.idle": "2021-07-05T17:06:04.791405Z",
     "shell.execute_reply": "2021-07-05T17:06:04.790603Z",
     "shell.execute_reply.started": "2021-07-05T17:06:03.872987Z"
    },
    "tags": []
   },
   "outputs": [
    {
     "name": "stdout",
     "output_type": "stream",
     "text": [
      "salinity_2 water_temp_8      0.001458\n",
      "water_temp_6 water_temp_8    0.001660\n",
      "salinity_2 water_temp_6      0.002148\n",
      "salinity_0 water_temp_8      0.002414\n",
      "salinity_0 water_temp_6      0.004443\n",
      "water_temp_4 water_temp_8    0.005247\n",
      "salinity_4 water_temp_6      0.015091\n",
      "water_temp_4 salinity_4      0.017746\n",
      "salinity_2 water_temp_4      0.020974\n",
      "water_temp_2 water_temp_8    0.021669\n",
      "water_temp_4 salinity_6      0.029044\n",
      "water_temp_6 salinity_6      0.038256\n",
      "salinity_0 water_temp_4      0.039998\n",
      "water_temp_4 water_temp_6    0.041155\n",
      "dtype: float64\n"
     ]
    }
   ],
   "source": [
    "_ = fit_interaction_model(df, 'xCO2_ATM_interpolated_ppm', True)"
   ]
  },
  {
   "cell_type": "code",
   "execution_count": 17,
   "id": "545dfefb-cfc2-47d5-b91b-34890ff92cdd",
   "metadata": {
    "execution": {
     "iopub.execute_input": "2021-07-05T16:57:45.658948Z",
     "iopub.status.busy": "2021-07-05T16:57:45.658656Z",
     "iopub.status.idle": "2021-07-05T16:57:45.665442Z",
     "shell.execute_reply": "2021-07-05T16:57:45.664724Z",
     "shell.execute_reply.started": "2021-07-05T16:57:45.658914Z"
    },
    "tags": []
   },
   "outputs": [
    {
     "data": {
      "text/plain": [
       "salinity_2 water_temp_8      0.001283\n",
       "water_temp_6 water_temp_8    0.001733\n",
       "salinity_2 water_temp_6      0.001861\n",
       "salinity_0 water_temp_8      0.002447\n",
       "salinity_0 water_temp_6      0.004198\n",
       "water_temp_4 water_temp_8    0.005196\n",
       "salinity_4 water_temp_6      0.013854\n",
       "water_temp_4 salinity_4      0.017909\n",
       "salinity_2 water_temp_4      0.018972\n",
       "water_temp_2 water_temp_8    0.019375\n",
       "water_temp_4 salinity_6      0.031389\n",
       "salinity_0 water_temp_4      0.036999\n",
       "water_temp_6 salinity_6      0.038100\n",
       "water_temp_4 water_temp_6    0.039486\n",
       "dtype: float64"
      ]
     },
     "execution_count": 17,
     "metadata": {},
     "output_type": "execute_result"
    }
   ],
   "source": []
  },
  {
   "cell_type": "code",
   "execution_count": null,
   "id": "cabafd79-101f-49f0-83dd-1980ee74d19a",
   "metadata": {},
   "outputs": [],
   "source": []
  },
  {
   "cell_type": "code",
   "execution_count": 20,
   "id": "0746c980-c837-45f2-861e-82738e3e8bb1",
   "metadata": {
    "execution": {
     "iopub.execute_input": "2021-07-01T19:31:11.855019Z",
     "iopub.status.busy": "2021-07-01T19:31:11.854839Z",
     "iopub.status.idle": "2021-07-01T19:31:13.374647Z",
     "shell.execute_reply": "2021-07-01T19:31:13.373856Z",
     "shell.execute_reply.started": "2021-07-01T19:31:11.855001Z"
    },
    "tags": []
   },
   "outputs": [
    {
     "name": "stdout",
     "output_type": "stream",
     "text": [
      "salinity_0 water_temp_4      0.036999\n",
      "salinity_0 water_temp_6      0.004198\n",
      "salinity_0 water_temp_8      0.002447\n",
      "water_temp_2 water_temp_8    0.019375\n",
      "salinity_2 water_temp_4      0.018972\n",
      "salinity_2 water_temp_6      0.001861\n",
      "salinity_2 water_temp_8      0.001283\n",
      "water_temp_4 salinity_4      0.017909\n",
      "water_temp_4 water_temp_6    0.039486\n",
      "water_temp_4 salinity_6      0.031389\n",
      "water_temp_4 water_temp_8    0.005196\n",
      "salinity_4 water_temp_6      0.013854\n",
      "water_temp_6 salinity_6      0.038100\n",
      "water_temp_6 water_temp_8    0.001733\n",
      "dtype: float64\n"
     ]
    }
   ],
   "source": [
    "fit_interaction_model(df, 'xCO2_ATM_interpolated_ppm')"
   ]
  },
  {
   "cell_type": "code",
   "execution_count": 21,
   "id": "564a31fe-9106-470f-9722-eea1a8091bb7",
   "metadata": {
    "execution": {
     "iopub.execute_input": "2021-07-01T19:31:13.383446Z",
     "iopub.status.busy": "2021-07-01T19:31:13.380181Z",
     "iopub.status.idle": "2021-07-01T19:31:14.795248Z",
     "shell.execute_reply": "2021-07-01T19:31:14.794532Z",
     "shell.execute_reply.started": "2021-07-01T19:31:13.383394Z"
    },
    "tags": []
   },
   "outputs": [
    {
     "name": "stdout",
     "output_type": "stream",
     "text": [
      "salinity_0 water_temp_4      0.037386\n",
      "salinity_0 water_temp_6      0.004142\n",
      "salinity_0 water_temp_8      0.002691\n",
      "water_temp_2 water_temp_8    0.015803\n",
      "salinity_2 water_temp_4      0.018860\n",
      "salinity_2 water_temp_6      0.001803\n",
      "salinity_2 water_temp_8      0.001470\n",
      "water_temp_4 salinity_4      0.016572\n",
      "water_temp_4 water_temp_6    0.027263\n",
      "water_temp_4 salinity_6      0.027540\n",
      "water_temp_4 water_temp_8    0.003239\n",
      "salinity_4 water_temp_6      0.012239\n",
      "water_temp_6 salinity_6      0.031526\n",
      "water_temp_6 water_temp_8    0.001191\n",
      "water_temp_6 salinity_8      0.046147\n",
      "dtype: float64\n"
     ]
    }
   ],
   "source": [
    "fit_interaction_model(df, 'PRES_EQU_hPa')"
   ]
  },
  {
   "cell_type": "code",
   "execution_count": 22,
   "id": "5c68ae22-442d-4583-b3b2-af7cb40a8b80",
   "metadata": {
    "execution": {
     "iopub.execute_input": "2021-07-01T19:31:14.797491Z",
     "iopub.status.busy": "2021-07-01T19:31:14.796933Z",
     "iopub.status.idle": "2021-07-01T19:31:16.210442Z",
     "shell.execute_reply": "2021-07-01T19:31:16.209777Z",
     "shell.execute_reply.started": "2021-07-01T19:31:14.797451Z"
    },
    "tags": []
   },
   "outputs": [
    {
     "name": "stdout",
     "output_type": "stream",
     "text": [
      "salinity_0 water_temp_4      0.035087\n",
      "salinity_0 water_temp_6      0.003845\n",
      "salinity_0 water_temp_8      0.002567\n",
      "water_temp_2 water_temp_8    0.015814\n",
      "salinity_2 water_temp_4      0.017680\n",
      "salinity_2 water_temp_6      0.001675\n",
      "salinity_2 water_temp_8      0.001405\n",
      "water_temp_4 salinity_4      0.016370\n",
      "water_temp_4 water_temp_6    0.027350\n",
      "water_temp_4 salinity_6      0.027910\n",
      "water_temp_4 water_temp_8    0.003297\n",
      "salinity_4 water_temp_6      0.012019\n",
      "water_temp_6 salinity_6      0.031696\n",
      "water_temp_6 water_temp_8    0.001221\n",
      "water_temp_6 salinity_8      0.046371\n",
      "dtype: float64\n"
     ]
    }
   ],
   "source": [
    "fit_interaction_model(df, 'PRES_ATM@SSP_hPa')"
   ]
  },
  {
   "cell_type": "code",
   "execution_count": 23,
   "id": "01cec414-37e9-4367-a8ed-a92b0a4f576a",
   "metadata": {
    "execution": {
     "iopub.execute_input": "2021-07-01T19:31:16.211726Z",
     "iopub.status.busy": "2021-07-01T19:31:16.211499Z",
     "iopub.status.idle": "2021-07-01T19:31:17.829188Z",
     "shell.execute_reply": "2021-07-01T19:31:17.828464Z",
     "shell.execute_reply.started": "2021-07-01T19:31:16.211698Z"
    },
    "tags": []
   },
   "outputs": [
    {
     "name": "stdout",
     "output_type": "stream",
     "text": [
      "salinity_0 water_temp_4      0.036941\n",
      "salinity_0 water_temp_6      0.004324\n",
      "salinity_0 water_temp_8      0.002817\n",
      "water_temp_2 water_temp_8    0.018826\n",
      "salinity_2 water_temp_4      0.017267\n",
      "salinity_2 water_temp_6      0.001797\n",
      "salinity_2 water_temp_8      0.001560\n",
      "water_temp_4 salinity_4      0.014885\n",
      "water_temp_4 water_temp_6    0.030125\n",
      "water_temp_4 salinity_6      0.026782\n",
      "water_temp_4 water_temp_8    0.004191\n",
      "salinity_4 water_temp_6      0.011675\n",
      "water_temp_6 salinity_6      0.031144\n",
      "water_temp_6 water_temp_8    0.001704\n",
      "dtype: float64\n"
     ]
    }
   ],
   "source": [
    "fit_interaction_model(df, 'TEMP_EQU_C')"
   ]
  },
  {
   "cell_type": "code",
   "execution_count": 24,
   "id": "d208c25b-4c67-4c1a-ab17-83bfb336acb0",
   "metadata": {
    "execution": {
     "iopub.execute_input": "2021-07-01T19:31:17.830662Z",
     "iopub.status.busy": "2021-07-01T19:31:17.830271Z",
     "iopub.status.idle": "2021-07-01T19:31:19.267065Z",
     "shell.execute_reply": "2021-07-01T19:31:19.266279Z",
     "shell.execute_reply.started": "2021-07-01T19:31:17.830628Z"
    },
    "tags": []
   },
   "outputs": [
    {
     "name": "stdout",
     "output_type": "stream",
     "text": [
      "salinity_0 water_temp_4      0.036855\n",
      "salinity_0 water_temp_6      0.004312\n",
      "salinity_0 water_temp_8      0.002810\n",
      "water_temp_2 water_temp_8    0.018726\n",
      "salinity_2 water_temp_4      0.017186\n",
      "salinity_2 water_temp_6      0.001790\n",
      "salinity_2 water_temp_8      0.001557\n",
      "water_temp_4 salinity_4      0.014836\n",
      "water_temp_4 water_temp_6    0.029824\n",
      "water_temp_4 salinity_6      0.026764\n",
      "water_temp_4 water_temp_8    0.004152\n",
      "salinity_4 water_temp_6      0.011651\n",
      "water_temp_6 salinity_6      0.031142\n",
      "water_temp_6 water_temp_8    0.001698\n",
      "dtype: float64\n"
     ]
    }
   ],
   "source": [
    "fit_interaction_model(df, 'SST_C')"
   ]
  },
  {
   "cell_type": "code",
   "execution_count": 25,
   "id": "96c2991f-ec67-427d-b188-9933e084ea2b",
   "metadata": {
    "execution": {
     "iopub.execute_input": "2021-07-01T19:31:19.268976Z",
     "iopub.status.busy": "2021-07-01T19:31:19.268419Z",
     "iopub.status.idle": "2021-07-01T19:31:20.723344Z",
     "shell.execute_reply": "2021-07-01T19:31:20.722584Z",
     "shell.execute_reply.started": "2021-07-01T19:31:19.268940Z"
    },
    "tags": []
   },
   "outputs": [
    {
     "name": "stdout",
     "output_type": "stream",
     "text": [
      "salinity_0 water_temp_4      0.037343\n",
      "salinity_0 water_temp_6      0.004565\n",
      "salinity_0 water_temp_8      0.003030\n",
      "water_temp_2 water_temp_8    0.020217\n",
      "salinity_2 water_temp_4      0.017532\n",
      "salinity_2 water_temp_6      0.001861\n",
      "salinity_2 water_temp_8      0.001602\n",
      "water_temp_4 salinity_4      0.014904\n",
      "water_temp_4 water_temp_6    0.031622\n",
      "water_temp_4 salinity_6      0.026517\n",
      "water_temp_4 water_temp_8    0.004529\n",
      "salinity_4 water_temp_6      0.011594\n",
      "water_temp_6 salinity_6      0.030726\n",
      "water_temp_6 water_temp_8    0.001876\n",
      "dtype: float64\n"
     ]
    }
   ],
   "source": [
    "fit_interaction_model(df, 'SAL_permil')"
   ]
  },
  {
   "cell_type": "code",
   "execution_count": 103,
   "id": "814548a9-562d-486a-8d6c-8949fe81d150",
   "metadata": {
    "execution": {
     "iopub.execute_input": "2021-07-05T17:45:38.400902Z",
     "iopub.status.busy": "2021-07-05T17:45:38.400727Z",
     "iopub.status.idle": "2021-07-05T17:45:39.502786Z",
     "shell.execute_reply": "2021-07-05T17:45:39.502012Z",
     "shell.execute_reply.started": "2021-07-05T17:45:38.400884Z"
    },
    "tags": []
   },
   "outputs": [
    {
     "name": "stdout",
     "output_type": "stream",
     "text": [
      "water_temp_6 water_temp_8    0.000394\n",
      "water_temp_4 water_temp_8    0.002606\n",
      "salinity_2 water_temp_6      0.002898\n",
      "salinity_2 water_temp_8      0.003278\n",
      "salinity_0 water_temp_8      0.005696\n",
      "salinity_0 water_temp_6      0.006479\n",
      "salinity_4 water_temp_6      0.012539\n",
      "water_temp_4 salinity_4      0.014885\n",
      "const                        0.021036\n",
      "salinity_2 water_temp_4      0.021969\n",
      "water_temp_4 salinity_6      0.024277\n",
      "water_temp_6 salinity_6      0.027231\n",
      "water_temp_2 water_temp_8    0.032403\n",
      "water_temp_4 water_temp_6    0.037562\n",
      "salinity_0 water_temp_4      0.045051\n",
      "water_temp_6 salinity_8      0.049619\n",
      "dtype: float64\n"
     ]
    }
   ],
   "source": [
    "_ = fit_interaction_model(df, 'fCO2_SW@SST_uatm', True)"
   ]
  },
  {
   "cell_type": "code",
   "execution_count": 23,
   "id": "2c2da5da-d6af-40c4-9a9d-f04b0a70669d",
   "metadata": {
    "execution": {
     "iopub.execute_input": "2021-07-05T16:59:28.513528Z",
     "iopub.status.busy": "2021-07-05T16:59:28.513296Z",
     "iopub.status.idle": "2021-07-05T16:59:30.095831Z",
     "shell.execute_reply": "2021-07-05T16:59:30.094917Z",
     "shell.execute_reply.started": "2021-07-05T16:59:28.513503Z"
    },
    "tags": []
   },
   "outputs": [
    {
     "name": "stdout",
     "output_type": "stream",
     "text": [
      "salinity_2 water_temp_8      0.001215\n",
      "water_temp_6 water_temp_8    0.001495\n",
      "salinity_2 water_temp_6      0.001782\n",
      "salinity_0 water_temp_8      0.002363\n",
      "salinity_0 water_temp_6      0.003946\n",
      "water_temp_4 water_temp_8    0.004597\n",
      "salinity_4 water_temp_6      0.014026\n",
      "water_temp_2 water_temp_8    0.017428\n",
      "water_temp_4 salinity_4      0.019022\n",
      "salinity_2 water_temp_4      0.019203\n",
      "water_temp_4 salinity_6      0.032619\n",
      "salinity_0 water_temp_4      0.035973\n",
      "water_temp_4 water_temp_6    0.037050\n",
      "water_temp_6 salinity_6      0.038566\n",
      "dtype: float64\n"
     ]
    }
   ],
   "source": [
    "_ = fit_interaction_model(df, 'fCO2_ATM_interpolated_uatm')"
   ]
  },
  {
   "cell_type": "code",
   "execution_count": 47,
   "id": "9488fc12-e4cf-45d1-b990-5651cc4c35ff",
   "metadata": {
    "execution": {
     "iopub.execute_input": "2021-07-05T17:14:21.916930Z",
     "iopub.status.busy": "2021-07-05T17:14:21.916744Z",
     "iopub.status.idle": "2021-07-05T17:14:23.377239Z",
     "shell.execute_reply": "2021-07-05T17:14:23.376320Z",
     "shell.execute_reply.started": "2021-07-05T17:14:21.916910Z"
    },
    "tags": []
   },
   "outputs": [
    {
     "name": "stdout",
     "output_type": "stream",
     "text": [
      "water_temp_6 water_temp_8    0.000286\n",
      "water_temp_4 water_temp_8    0.001925\n",
      "salinity_2 water_temp_6      0.003208\n",
      "salinity_2 water_temp_8      0.005467\n",
      "salinity_0 water_temp_6      0.008277\n",
      "salinity_4 water_temp_6      0.009406\n",
      "salinity_0 water_temp_8      0.009426\n",
      "water_temp_4 salinity_4      0.010615\n",
      "water_temp_4 salinity_6      0.018773\n",
      "water_temp_6 salinity_6      0.018986\n",
      "salinity_2 water_temp_4      0.019393\n",
      "water_temp_4 water_temp_6    0.030431\n",
      "water_temp_8 salinity_8      0.040806\n",
      "water_temp_2 water_temp_8    0.041789\n",
      "water_temp_6 salinity_8      0.046094\n",
      "salinity_0 water_temp_4      0.047530\n",
      "const                        0.049034\n",
      "dtype: float64\n"
     ]
    }
   ],
   "source": [
    "res = fit_interaction_model(df, 'dfCO2_uatm', True)"
   ]
  },
  {
   "cell_type": "markdown",
   "id": "d3a6e752-0d4a-4cd3-8d55-39a17747e8c3",
   "metadata": {},
   "source": [
    "## Feature Subset Evaluation\n",
    "Predictors with lowest p-values for fCO2_SW@SST_uatm selected below, and model performance evaluated using cross validation"
   ]
  },
  {
   "cell_type": "code",
   "execution_count": 176,
   "id": "ed1f0cda-608c-4d31-bd07-99cb3c99a40a",
   "metadata": {
    "execution": {
     "iopub.execute_input": "2021-07-05T18:19:58.657135Z",
     "iopub.status.busy": "2021-07-05T18:19:58.656909Z",
     "iopub.status.idle": "2021-07-05T18:19:59.729622Z",
     "shell.execute_reply": "2021-07-05T18:19:59.729058Z",
     "shell.execute_reply.started": "2021-07-05T18:19:58.657114Z"
    },
    "tags": []
   },
   "outputs": [
    {
     "data": {
      "text/plain": [
       "Lasso()"
      ]
     },
     "execution_count": 176,
     "metadata": {},
     "output_type": "execute_result"
    }
   ],
   "source": [
    "from sklearn.model_selection import KFold\n",
    "from sklearn.model_selection import cross_val_score\n",
    "from sklearn.model_selection import cross_validate, train_test_split\n",
    "from sklearn.linear_model import Ridge\n",
    "import cuml\n",
    "from cuml.experimental.preprocessing import PolynomialFeatures\n",
    "\n",
    "from cuml.linear_model import Lasso\n",
    "X_col_subset = [\n",
    "    'salinity_0',\n",
    "    'salinity_2',\n",
    "    'water_temp_8',\n",
    "    'water_temp_6 water_temp_8',   \n",
    "    'salinity_2 water_temp_6',      \n",
    "    'water_temp_4 water_temp_8',    \n",
    "    'salinity_2 water_temp_8',      \n",
    "    'salinity_0 water_temp_8',      \n",
    "    'salinity_0 water_temp_6',      \n",
    "    'salinity_4 water_temp_6',      \n",
    "    'water_temp_4 salinity_4',      \n",
    "    'salinity_2 water_temp_4',      \n",
    "    'water_temp_4 salinity_6',      \n",
    "    'water_temp_6 salinity_6',      \n",
    "    'water_temp_2 water_temp_8',    \n",
    "    'water_temp_4 water_temp_6',    \n",
    "    'salinity_0 water_temp_4',          \n",
    "    ]\n",
    "    \n",
    "\n",
    "pred_col = 'fCO2_SW@SST_uatm'\n",
    "df = df.dropna()\n",
    "\n",
    "df = df[df[pred_col] >= 0]\n",
    "\n",
    "X = df[X_col_names]\n",
    "y = df[[pred_col]]\n",
    "\n",
    "poly_features = PolynomialFeatures(2, interaction_only=True, include_bias=False) \n",
    "X_inter = poly_features.fit_transform(X)\n",
    "\n",
    "X_df = X_inter\n",
    "X_df.columns = poly_features.get_feature_names(X.columns)    \n",
    "X_df = X_df[X_col_subset]\n",
    "\n",
    "X_train, X_test, y_train, y_test = train_test_split(X_df, y, test_size=0.2, random_state=42)\n",
    "\n",
    "model = Lasso(alpha = 0.1) \n",
    "model.fit(X_train, y_train)"
   ]
  },
  {
   "cell_type": "code",
   "execution_count": 177,
   "id": "898661d3-aab3-48e5-a1b6-83049287f8db",
   "metadata": {
    "execution": {
     "iopub.execute_input": "2021-07-05T18:20:02.968909Z",
     "iopub.status.busy": "2021-07-05T18:20:02.968701Z",
     "iopub.status.idle": "2021-07-05T18:20:03.168966Z",
     "shell.execute_reply": "2021-07-05T18:20:03.168061Z",
     "shell.execute_reply.started": "2021-07-05T18:20:02.968888Z"
    },
    "tags": []
   },
   "outputs": [
    {
     "name": "stdout",
     "output_type": "stream",
     "text": [
      "Mon Jul  5 14:20:03 2021       \n",
      "+-----------------------------------------------------------------------------+\n",
      "| NVIDIA-SMI 460.84       Driver Version: 460.84       CUDA Version: 11.2     |\n",
      "|-------------------------------+----------------------+----------------------+\n",
      "| GPU  Name        Persistence-M| Bus-Id        Disp.A | Volatile Uncorr. ECC |\n",
      "| Fan  Temp  Perf  Pwr:Usage/Cap|         Memory-Usage | GPU-Util  Compute M. |\n",
      "|                               |                      |               MIG M. |\n",
      "|===============================+======================+======================|\n",
      "|   0  GeForce GTX 106...  Off  | 00000000:01:00.0 Off |                  N/A |\n",
      "| N/A   70C    P2    30W /  N/A |   2054MiB /  6078MiB |      0%      Default |\n",
      "|                               |                      |                  N/A |\n",
      "+-------------------------------+----------------------+----------------------+\n",
      "                                                                               \n",
      "+-----------------------------------------------------------------------------+\n",
      "| Processes:                                                                  |\n",
      "|  GPU   GI   CI        PID   Type   Process name                  GPU Memory |\n",
      "|        ID   ID                                                   Usage      |\n",
      "|=============================================================================|\n",
      "|    0   N/A  N/A      1692      G   /usr/lib/xorg/Xorg                  4MiB |\n",
      "|    0   N/A  N/A     67503      C   ...rapids-0.20/bin/python3.8     1699MiB |\n",
      "|    0   N/A  N/A     72449      C   ...rapids-0.20/bin/python3.8      347MiB |\n",
      "+-----------------------------------------------------------------------------+\n"
     ]
    }
   ],
   "source": [
    "!nvidia-smi"
   ]
  },
  {
   "cell_type": "code",
   "execution_count": 178,
   "id": "5bd664e2-ffc3-4ccd-a7b8-2324d6c88202",
   "metadata": {
    "execution": {
     "iopub.execute_input": "2021-07-05T18:20:04.481608Z",
     "iopub.status.busy": "2021-07-05T18:20:04.481236Z",
     "iopub.status.idle": "2021-07-05T18:20:04.498824Z",
     "shell.execute_reply": "2021-07-05T18:20:04.497466Z",
     "shell.execute_reply.started": "2021-07-05T18:20:04.481565Z"
    },
    "tags": []
   },
   "outputs": [
    {
     "name": "stdout",
     "output_type": "stream",
     "text": [
      "6.744775374498608\n"
     ]
    }
   ],
   "source": [
    "from sklearn.metrics import mean_absolute_error\n",
    "\n",
    "y_pred = model.predict(X_test)\n",
    "mae = mean_absolute_error(y_test.to_pandas(), y_pred.to_pandas())\n",
    "print(mae)"
   ]
  }
 ],
 "metadata": {
  "kernelspec": {
   "display_name": "Python 3",
   "language": "python",
   "name": "python3"
  },
  "language_info": {
   "codemirror_mode": {
    "name": "ipython",
    "version": 3
   },
   "file_extension": ".py",
   "mimetype": "text/x-python",
   "name": "python",
   "nbconvert_exporter": "python",
   "pygments_lexer": "ipython3",
   "version": "3.8.10"
  }
 },
 "nbformat": 4,
 "nbformat_minor": 5
}
