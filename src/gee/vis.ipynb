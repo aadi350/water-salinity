{
 "cells": [
  {
   "cell_type": "markdown",
   "id": "8f60667c-e742-4a25-841e-f0b6a827093e",
   "metadata": {},
   "source": [
    "# Visualising GEE Data\n",
    "This notebook pulls varying bands from the HYCOM Dataset and outputs as .PNG files for inclusion into the document"
   ]
  },
  {
   "cell_type": "code",
   "execution_count": 1,
   "id": "f4be7b0c-c37b-44cc-8f61-377b03af84b3",
   "metadata": {
    "execution": {
     "iopub.execute_input": "2021-07-14T17:57:14.410085Z",
     "iopub.status.busy": "2021-07-14T17:57:14.409789Z",
     "iopub.status.idle": "2021-07-14T17:57:32.377468Z",
     "shell.execute_reply": "2021-07-14T17:57:32.374768Z",
     "shell.execute_reply.started": "2021-07-14T17:57:14.410012Z"
    },
    "tags": []
   },
   "outputs": [
    {
     "data": {
      "text/html": [
       "<p>To authorize access needed by Earth Engine, open the following\n",
       "        URL in a web browser and follow the instructions:</p>\n",
       "        <p><a href=https://accounts.google.com/o/oauth2/auth?client_id=517222506229-vsmmajv00ul0bs7p89v5m89qs8eb9359.apps.googleusercontent.com&scope=https%3A%2F%2Fwww.googleapis.com%2Fauth%2Fearthengine+https%3A%2F%2Fwww.googleapis.com%2Fauth%2Fdevstorage.full_control&redirect_uri=urn%3Aietf%3Awg%3Aoauth%3A2.0%3Aoob&response_type=code&code_challenge=YulBAvFhiOaOznIhbIvlTOxeDfrCosuGCUZC9Rj0_70&code_challenge_method=S256>https://accounts.google.com/o/oauth2/auth?client_id=517222506229-vsmmajv00ul0bs7p89v5m89qs8eb9359.apps.googleusercontent.com&scope=https%3A%2F%2Fwww.googleapis.com%2Fauth%2Fearthengine+https%3A%2F%2Fwww.googleapis.com%2Fauth%2Fdevstorage.full_control&redirect_uri=urn%3Aietf%3Awg%3Aoauth%3A2.0%3Aoob&response_type=code&code_challenge=YulBAvFhiOaOznIhbIvlTOxeDfrCosuGCUZC9Rj0_70&code_challenge_method=S256</a></p>\n",
       "        <p>The authorization workflow will generate a code, which you\n",
       "        should paste in the box below</p>\n",
       "        "
      ],
      "text/plain": [
       "<IPython.core.display.HTML object>"
      ]
     },
     "metadata": {},
     "output_type": "display_data"
    },
    {
     "name": "stdin",
     "output_type": "stream",
     "text": [
      "Enter verification code:  4/1AX4XfWjTbBJrE7n27HHRCizJfNXwWyvFmntrlCf8fiDK--l2vrYCPTMmLgc\n"
     ]
    },
    {
     "name": "stdout",
     "output_type": "stream",
     "text": [
      "\n",
      "Successfully saved authorization token.\n"
     ]
    }
   ],
   "source": [
    "import ee\n",
    "\n",
    "ee.Initialize()\n",
    "ee.Authenticate()"
   ]
  },
  {
   "cell_type": "code",
   "execution_count": 6,
   "id": "1e6ed240-8014-4b14-a66d-872156342a94",
   "metadata": {
    "execution": {
     "iopub.execute_input": "2021-07-14T18:00:37.614494Z",
     "iopub.status.busy": "2021-07-14T18:00:37.613846Z",
     "iopub.status.idle": "2021-07-14T18:00:39.343575Z",
     "shell.execute_reply": "2021-07-14T18:00:39.342861Z",
     "shell.execute_reply.started": "2021-07-14T18:00:37.614421Z"
    }
   },
   "outputs": [],
   "source": [
    "import folium\n",
    "from folium import plugins\n",
    "import colorcet as cc"
   ]
  },
  {
   "cell_type": "code",
   "execution_count": 9,
   "id": "5672babb-948c-4dd2-98d5-88d4c317224f",
   "metadata": {
    "execution": {
     "iopub.execute_input": "2021-07-14T18:01:38.585530Z",
     "iopub.status.busy": "2021-07-14T18:01:38.585266Z",
     "iopub.status.idle": "2021-07-14T18:01:38.598347Z",
     "shell.execute_reply": "2021-07-14T18:01:38.597657Z",
     "shell.execute_reply.started": "2021-07-14T18:01:38.585500Z"
    },
    "tags": []
   },
   "outputs": [],
   "source": [
    "# Add custom basemaps to folium\n",
    "basemaps = {\n",
    "    'Google Maps': folium.TileLayer(\n",
    "        tiles = 'https://mt1.google.com/vt/lyrs=m&x={x}&y={y}&z={z}',\n",
    "        attr = 'Google',\n",
    "        name = 'Google Maps',\n",
    "        overlay = True,\n",
    "        control = True\n",
    "    ),\n",
    "    'Google Satellite': folium.TileLayer(\n",
    "        tiles = 'https://mt1.google.com/vt/lyrs=s&x={x}&y={y}&z={z}',\n",
    "        attr = 'Google',\n",
    "        name = 'Google Satellite',\n",
    "        overlay = True,\n",
    "        control = True\n",
    "    ),\n",
    "    'Google Terrain': folium.TileLayer(\n",
    "        tiles = 'https://mt1.google.com/vt/lyrs=p&x={x}&y={y}&z={z}',\n",
    "        attr = 'Google',\n",
    "        name = 'Google Terrain',\n",
    "        overlay = True,\n",
    "        control = True\n",
    "    ),\n",
    "    'Google Satellite Hybrid': folium.TileLayer(\n",
    "        tiles = 'https://mt1.google.com/vt/lyrs=y&x={x}&y={y}&z={z}',\n",
    "        attr = 'Google',\n",
    "        name = 'Google Satellite',\n",
    "        overlay = True,\n",
    "        control = True\n",
    "    ),\n",
    "    'Esri Satellite': folium.TileLayer(\n",
    "        tiles = 'https://server.arcgisonline.com/ArcGIS/rest/services/World_Imagery/MapServer/tile/{z}/{y}/{x}',\n",
    "        attr = 'Esri',\n",
    "        name = 'Esri Satellite',\n",
    "        overlay = True,\n",
    "        control = True\n",
    "    )\n",
    "}"
   ]
  },
  {
   "cell_type": "code",
   "execution_count": 7,
   "id": "2bd5a906-13b8-4730-aa33-4a9432b6c92d",
   "metadata": {
    "execution": {
     "iopub.execute_input": "2021-07-14T18:00:55.384044Z",
     "iopub.status.busy": "2021-07-14T18:00:55.383438Z",
     "iopub.status.idle": "2021-07-14T18:00:55.400705Z",
     "shell.execute_reply": "2021-07-14T18:00:55.399207Z",
     "shell.execute_reply.started": "2021-07-14T18:00:55.383974Z"
    },
    "tags": []
   },
   "outputs": [],
   "source": [
    "# Define a method for displaying Earth Engine image tiles on a folium map.\n",
    "def add_ee_layer(self, ee_object, vis_params, name):\n",
    "    \n",
    "    try:    \n",
    "        # display ee.Image()\n",
    "        if isinstance(ee_object, ee.image.Image):    \n",
    "            map_id_dict = ee.Image(ee_object).getMapId(vis_params)\n",
    "            folium.raster_layers.TileLayer(\n",
    "            tiles = map_id_dict['tile_fetcher'].url_format,\n",
    "            attr = 'Google Earth Engine',\n",
    "            name = name,\n",
    "            overlay = True,\n",
    "            control = True\n",
    "            ).add_to(self)\n",
    "        # display ee.ImageCollection()\n",
    "        elif isinstance(ee_object, ee.imagecollection.ImageCollection):    \n",
    "            ee_object_new = ee_object.mosaic()\n",
    "            map_id_dict = ee.Image(ee_object_new).getMapId(vis_params)\n",
    "            folium.raster_layers.TileLayer(\n",
    "            tiles = map_id_dict['tile_fetcher'].url_format,\n",
    "            attr = 'Google Earth Engine',\n",
    "            name = name,\n",
    "            overlay = True,\n",
    "            control = True\n",
    "            ).add_to(self)\n",
    "        # display ee.Geometry()\n",
    "        elif isinstance(ee_object, ee.geometry.Geometry):    \n",
    "            folium.GeoJson(\n",
    "            data = ee_object.getInfo(),\n",
    "            name = name,\n",
    "            overlay = True,\n",
    "            control = True\n",
    "        ).add_to(self)\n",
    "        # display ee.FeatureCollection()\n",
    "        elif isinstance(ee_object, ee.featurecollection.FeatureCollection):  \n",
    "            ee_object_new = ee.Image().paint(ee_object, 0, 2)\n",
    "            map_id_dict = ee.Image(ee_object_new).getMapId(vis_params)\n",
    "            folium.raster_layers.TileLayer(\n",
    "            tiles = map_id_dict['tile_fetcher'].url_format,\n",
    "            attr = 'Google Earth Engine',\n",
    "            name = name,\n",
    "            overlay = True,\n",
    "            control = True\n",
    "        ).add_to(self)\n",
    "    \n",
    "    except Exception as e:\n",
    "        print(f\"{e}: Could not display {name}\")\n",
    "    \n",
    "# Add EE drawing method to folium.\n",
    "folium.Map.add_ee_layer = add_ee_layer"
   ]
  },
  {
   "cell_type": "code",
   "execution_count": 27,
   "id": "47b76fd7-7680-442f-83b1-41c221938954",
   "metadata": {
    "execution": {
     "iopub.execute_input": "2021-07-14T18:38:46.021672Z",
     "iopub.status.busy": "2021-07-14T18:38:46.021242Z",
     "iopub.status.idle": "2021-07-14T18:38:46.432593Z",
     "shell.execute_reply": "2021-07-14T18:38:46.430321Z",
     "shell.execute_reply.started": "2021-07-14T18:38:46.021622Z"
    },
    "tags": []
   },
   "outputs": [
    {
     "data": {
      "text/html": [
       "<div style=\"width:100%;\"><div style=\"position:relative;width:100%;height:0;padding-bottom:60%;\"><span style=\"color:#565656\">Make this Notebook Trusted to load map: File -> Trust Notebook</span><iframe src=\"about:blank\" style=\"position:absolute;width:100%;height:100%;left:0;top:0;border:none !important;\" data-html=%3C%21DOCTYPE%20html%3E%0A%3Chead%3E%20%20%20%20%0A%20%20%20%20%3Cmeta%20http-equiv%3D%22content-type%22%20content%3D%22text/html%3B%20charset%3DUTF-8%22%20/%3E%0A%20%20%20%20%0A%20%20%20%20%20%20%20%20%3Cscript%3E%0A%20%20%20%20%20%20%20%20%20%20%20%20L_NO_TOUCH%20%3D%20false%3B%0A%20%20%20%20%20%20%20%20%20%20%20%20L_DISABLE_3D%20%3D%20false%3B%0A%20%20%20%20%20%20%20%20%3C/script%3E%0A%20%20%20%20%0A%20%20%20%20%3Cstyle%3Ehtml%2C%20body%20%7Bwidth%3A%20100%25%3Bheight%3A%20100%25%3Bmargin%3A%200%3Bpadding%3A%200%3B%7D%3C/style%3E%0A%20%20%20%20%3Cstyle%3E%23map%20%7Bposition%3Aabsolute%3Btop%3A0%3Bbottom%3A0%3Bright%3A0%3Bleft%3A0%3B%7D%3C/style%3E%0A%20%20%20%20%3Cscript%20src%3D%22https%3A//cdn.jsdelivr.net/npm/leaflet%401.6.0/dist/leaflet.js%22%3E%3C/script%3E%0A%20%20%20%20%3Cscript%20src%3D%22https%3A//code.jquery.com/jquery-1.12.4.min.js%22%3E%3C/script%3E%0A%20%20%20%20%3Cscript%20src%3D%22https%3A//maxcdn.bootstrapcdn.com/bootstrap/3.2.0/js/bootstrap.min.js%22%3E%3C/script%3E%0A%20%20%20%20%3Cscript%20src%3D%22https%3A//cdnjs.cloudflare.com/ajax/libs/Leaflet.awesome-markers/2.0.2/leaflet.awesome-markers.js%22%3E%3C/script%3E%0A%20%20%20%20%3Clink%20rel%3D%22stylesheet%22%20href%3D%22https%3A//cdn.jsdelivr.net/npm/leaflet%401.6.0/dist/leaflet.css%22/%3E%0A%20%20%20%20%3Clink%20rel%3D%22stylesheet%22%20href%3D%22https%3A//maxcdn.bootstrapcdn.com/bootstrap/3.2.0/css/bootstrap.min.css%22/%3E%0A%20%20%20%20%3Clink%20rel%3D%22stylesheet%22%20href%3D%22https%3A//maxcdn.bootstrapcdn.com/bootstrap/3.2.0/css/bootstrap-theme.min.css%22/%3E%0A%20%20%20%20%3Clink%20rel%3D%22stylesheet%22%20href%3D%22https%3A//maxcdn.bootstrapcdn.com/font-awesome/4.6.3/css/font-awesome.min.css%22/%3E%0A%20%20%20%20%3Clink%20rel%3D%22stylesheet%22%20href%3D%22https%3A//cdnjs.cloudflare.com/ajax/libs/Leaflet.awesome-markers/2.0.2/leaflet.awesome-markers.css%22/%3E%0A%20%20%20%20%3Clink%20rel%3D%22stylesheet%22%20href%3D%22https%3A//cdn.jsdelivr.net/gh/python-visualization/folium/folium/templates/leaflet.awesome.rotate.min.css%22/%3E%0A%20%20%20%20%0A%20%20%20%20%20%20%20%20%20%20%20%20%3Cmeta%20name%3D%22viewport%22%20content%3D%22width%3Ddevice-width%2C%0A%20%20%20%20%20%20%20%20%20%20%20%20%20%20%20%20initial-scale%3D1.0%2C%20maximum-scale%3D1.0%2C%20user-scalable%3Dno%22%20/%3E%0A%20%20%20%20%20%20%20%20%20%20%20%20%3Cstyle%3E%0A%20%20%20%20%20%20%20%20%20%20%20%20%20%20%20%20%23map_7eeaa631142f4639a38b141179f9d2a9%20%7B%0A%20%20%20%20%20%20%20%20%20%20%20%20%20%20%20%20%20%20%20%20position%3A%20relative%3B%0A%20%20%20%20%20%20%20%20%20%20%20%20%20%20%20%20%20%20%20%20width%3A%20100.0%25%3B%0A%20%20%20%20%20%20%20%20%20%20%20%20%20%20%20%20%20%20%20%20height%3A%20100.0%25%3B%0A%20%20%20%20%20%20%20%20%20%20%20%20%20%20%20%20%20%20%20%20left%3A%200.0%25%3B%0A%20%20%20%20%20%20%20%20%20%20%20%20%20%20%20%20%20%20%20%20top%3A%200.0%25%3B%0A%20%20%20%20%20%20%20%20%20%20%20%20%20%20%20%20%7D%0A%20%20%20%20%20%20%20%20%20%20%20%20%3C/style%3E%0A%20%20%20%20%20%20%20%20%0A%3C/head%3E%0A%3Cbody%3E%20%20%20%20%0A%20%20%20%20%0A%20%20%20%20%20%20%20%20%20%20%20%20%3Cdiv%20class%3D%22folium-map%22%20id%3D%22map_7eeaa631142f4639a38b141179f9d2a9%22%20%3E%3C/div%3E%0A%20%20%20%20%20%20%20%20%0A%3C/body%3E%0A%3Cscript%3E%20%20%20%20%0A%20%20%20%20%0A%20%20%20%20%20%20%20%20%20%20%20%20var%20map_7eeaa631142f4639a38b141179f9d2a9%20%3D%20L.map%28%0A%20%20%20%20%20%20%20%20%20%20%20%20%20%20%20%20%22map_7eeaa631142f4639a38b141179f9d2a9%22%2C%0A%20%20%20%20%20%20%20%20%20%20%20%20%20%20%20%20%7B%0A%20%20%20%20%20%20%20%20%20%20%20%20%20%20%20%20%20%20%20%20center%3A%20%5B-112.85%2C%2036.0%5D%2C%0A%20%20%20%20%20%20%20%20%20%20%20%20%20%20%20%20%20%20%20%20crs%3A%20L.CRS.EPSG3857%2C%0A%20%20%20%20%20%20%20%20%20%20%20%20%20%20%20%20%20%20%20%20zoom%3A%209%2C%0A%20%20%20%20%20%20%20%20%20%20%20%20%20%20%20%20%20%20%20%20zoomControl%3A%20true%2C%0A%20%20%20%20%20%20%20%20%20%20%20%20%20%20%20%20%20%20%20%20preferCanvas%3A%20false%2C%0A%20%20%20%20%20%20%20%20%20%20%20%20%20%20%20%20%7D%0A%20%20%20%20%20%20%20%20%20%20%20%20%29%3B%0A%0A%20%20%20%20%20%20%20%20%20%20%20%20%0A%0A%20%20%20%20%20%20%20%20%0A%20%20%20%20%0A%20%20%20%20%20%20%20%20%20%20%20%20var%20tile_layer_d7f5711542b14c7486868cc476387713%20%3D%20L.tileLayer%28%0A%20%20%20%20%20%20%20%20%20%20%20%20%20%20%20%20%22https%3A//%7Bs%7D.tile.openstreetmap.org/%7Bz%7D/%7Bx%7D/%7By%7D.png%22%2C%0A%20%20%20%20%20%20%20%20%20%20%20%20%20%20%20%20%7B%22attribution%22%3A%20%22Data%20by%20%5Cu0026copy%3B%20%5Cu003ca%20href%3D%5C%22http%3A//openstreetmap.org%5C%22%5Cu003eOpenStreetMap%5Cu003c/a%5Cu003e%2C%20under%20%5Cu003ca%20href%3D%5C%22http%3A//www.openstreetmap.org/copyright%5C%22%5Cu003eODbL%5Cu003c/a%5Cu003e.%22%2C%20%22detectRetina%22%3A%20false%2C%20%22maxNativeZoom%22%3A%2018%2C%20%22maxZoom%22%3A%2018%2C%20%22minZoom%22%3A%200%2C%20%22noWrap%22%3A%20false%2C%20%22opacity%22%3A%201%2C%20%22subdomains%22%3A%20%22abc%22%2C%20%22tms%22%3A%20false%7D%0A%20%20%20%20%20%20%20%20%20%20%20%20%29.addTo%28map_7eeaa631142f4639a38b141179f9d2a9%29%3B%0A%20%20%20%20%20%20%20%20%0A%20%20%20%20%0A%20%20%20%20%20%20%20%20%20%20%20%20var%20tile_layer_23838c10f1b84655ab1114841419e0a4%20%3D%20L.tileLayer%28%0A%20%20%20%20%20%20%20%20%20%20%20%20%20%20%20%20%22https%3A//earthengine.googleapis.com/v1alpha/projects/earthengine-legacy/maps/402fd40fe507dbb67ced737c42a51c39-9154ca676664c5f46fa683c24dbbafcc/tiles/%7Bz%7D/%7Bx%7D/%7By%7D%22%2C%0A%20%20%20%20%20%20%20%20%20%20%20%20%20%20%20%20%7B%22attribution%22%3A%20%22Google%20Earth%20Engine%22%2C%20%22detectRetina%22%3A%20false%2C%20%22maxNativeZoom%22%3A%2018%2C%20%22maxZoom%22%3A%2018%2C%20%22minZoom%22%3A%200%2C%20%22noWrap%22%3A%20false%2C%20%22opacity%22%3A%201%2C%20%22subdomains%22%3A%20%22abc%22%2C%20%22tms%22%3A%20false%7D%0A%20%20%20%20%20%20%20%20%20%20%20%20%29.addTo%28map_7eeaa631142f4639a38b141179f9d2a9%29%3B%0A%20%20%20%20%20%20%20%20%0A%3C/script%3E onload=\"this.contentDocument.open();this.contentDocument.write(    decodeURIComponent(this.getAttribute('data-html')));this.contentDocument.close();\" allowfullscreen webkitallowfullscreen mozallowfullscreen></iframe></div></div>"
      ],
      "text/plain": [
       "<folium.folium.Map at 0x7fc6a88a4a60>"
      ]
     },
     "metadata": {},
     "output_type": "display_data"
    }
   ],
   "source": [
    "dataset = ee.ImageCollection('HYCOM/sea_temp_salinity').filter(ee.Filter.date('2019-06-01', '2019-07-01'))\n",
    "\n",
    "\n",
    "def map_to_c(image):\n",
    "    return ee.Image(image).multiply(0.001).add(20)\n",
    "\n",
    "dataset = dataset.map(lambda image: map_to_c(image))\n",
    "dataset = dataset.select('water_temp_0')\n",
    "vis_params = {\n",
    "    'min': 20,\n",
    "    'max': 34,\n",
    "    'palette': cc.fire,\n",
    "}\n",
    "\n",
    "# Create a folium map object.\n",
    "my_map = folium.Map(location=[-112.85, 36], zoom_start=9)\n",
    "\n",
    "# Add custom basemaps\n",
    "# basemaps['Google Maps'].add_to(my_map)\n",
    "# basemaps['Google Satellite Hybrid'].add_to(my_map)\n",
    "\n",
    "# Add the elevation model to the map object.\n",
    "my_map.add_ee_layer(dataset, vis_params, 'test')\n",
    "# Display the map.\n",
    "display(my_map)"
   ]
  },
  {
   "cell_type": "code",
   "execution_count": 35,
   "id": "c731046c-8f66-46b0-80fc-261683c79c32",
   "metadata": {
    "execution": {
     "iopub.execute_input": "2021-07-14T18:43:42.153594Z",
     "iopub.status.busy": "2021-07-14T18:43:42.153223Z",
     "iopub.status.idle": "2021-07-14T18:43:42.161467Z",
     "shell.execute_reply": "2021-07-14T18:43:42.160542Z",
     "shell.execute_reply.started": "2021-07-14T18:43:42.153553Z"
    },
    "tags": []
   },
   "outputs": [
    {
     "data": {
      "text/plain": [
       "[('#000000', 20.0),\n",
       " ('#660100', 22.734375),\n",
       " ('#bb0600', 25.46875),\n",
       " ('#fd5100', 28.203125),\n",
       " ('#ffb402', 30.9375),\n",
       " ('#fffea8', 33.671875)]"
      ]
     },
     "execution_count": 35,
     "metadata": {},
     "output_type": "execute_result"
    }
   ],
   "source": [
    "CONST = (34-20)/256\n",
    "# creating legend to overlay\n",
    "vals = [i*CONST for i in range(0, 257)]\n",
    "legend =[(cc.fire[i], vals[i]+20) for i in [0,50,100,150,200,250]]\n",
    "legend"
   ]
  },
  {
   "cell_type": "code",
   "execution_count": 46,
   "id": "85e52abf-9733-4f71-8dab-8daf44ac4d35",
   "metadata": {
    "execution": {
     "iopub.execute_input": "2021-07-14T18:54:22.542993Z",
     "iopub.status.busy": "2021-07-14T18:54:22.542680Z",
     "iopub.status.idle": "2021-07-14T18:54:22.940109Z",
     "shell.execute_reply": "2021-07-14T18:54:22.937993Z",
     "shell.execute_reply.started": "2021-07-14T18:54:22.542958Z"
    },
    "tags": []
   },
   "outputs": [
    {
     "data": {
      "text/html": [
       "<div style=\"width:100%;\"><div style=\"position:relative;width:100%;height:0;padding-bottom:60%;\"><span style=\"color:#565656\">Make this Notebook Trusted to load map: File -> Trust Notebook</span><iframe src=\"about:blank\" style=\"position:absolute;width:100%;height:100%;left:0;top:0;border:none !important;\" data-html=%3C%21DOCTYPE%20html%3E%0A%3Chead%3E%20%20%20%20%0A%20%20%20%20%3Cmeta%20http-equiv%3D%22content-type%22%20content%3D%22text/html%3B%20charset%3DUTF-8%22%20/%3E%0A%20%20%20%20%0A%20%20%20%20%20%20%20%20%3Cscript%3E%0A%20%20%20%20%20%20%20%20%20%20%20%20L_NO_TOUCH%20%3D%20false%3B%0A%20%20%20%20%20%20%20%20%20%20%20%20L_DISABLE_3D%20%3D%20false%3B%0A%20%20%20%20%20%20%20%20%3C/script%3E%0A%20%20%20%20%0A%20%20%20%20%3Cstyle%3Ehtml%2C%20body%20%7Bwidth%3A%20100%25%3Bheight%3A%20100%25%3Bmargin%3A%200%3Bpadding%3A%200%3B%7D%3C/style%3E%0A%20%20%20%20%3Cstyle%3E%23map%20%7Bposition%3Aabsolute%3Btop%3A0%3Bbottom%3A0%3Bright%3A0%3Bleft%3A0%3B%7D%3C/style%3E%0A%20%20%20%20%3Cscript%20src%3D%22https%3A//cdn.jsdelivr.net/npm/leaflet%401.6.0/dist/leaflet.js%22%3E%3C/script%3E%0A%20%20%20%20%3Cscript%20src%3D%22https%3A//code.jquery.com/jquery-1.12.4.min.js%22%3E%3C/script%3E%0A%20%20%20%20%3Cscript%20src%3D%22https%3A//maxcdn.bootstrapcdn.com/bootstrap/3.2.0/js/bootstrap.min.js%22%3E%3C/script%3E%0A%20%20%20%20%3Cscript%20src%3D%22https%3A//cdnjs.cloudflare.com/ajax/libs/Leaflet.awesome-markers/2.0.2/leaflet.awesome-markers.js%22%3E%3C/script%3E%0A%20%20%20%20%3Clink%20rel%3D%22stylesheet%22%20href%3D%22https%3A//cdn.jsdelivr.net/npm/leaflet%401.6.0/dist/leaflet.css%22/%3E%0A%20%20%20%20%3Clink%20rel%3D%22stylesheet%22%20href%3D%22https%3A//maxcdn.bootstrapcdn.com/bootstrap/3.2.0/css/bootstrap.min.css%22/%3E%0A%20%20%20%20%3Clink%20rel%3D%22stylesheet%22%20href%3D%22https%3A//maxcdn.bootstrapcdn.com/bootstrap/3.2.0/css/bootstrap-theme.min.css%22/%3E%0A%20%20%20%20%3Clink%20rel%3D%22stylesheet%22%20href%3D%22https%3A//maxcdn.bootstrapcdn.com/font-awesome/4.6.3/css/font-awesome.min.css%22/%3E%0A%20%20%20%20%3Clink%20rel%3D%22stylesheet%22%20href%3D%22https%3A//cdnjs.cloudflare.com/ajax/libs/Leaflet.awesome-markers/2.0.2/leaflet.awesome-markers.css%22/%3E%0A%20%20%20%20%3Clink%20rel%3D%22stylesheet%22%20href%3D%22https%3A//cdn.jsdelivr.net/gh/python-visualization/folium/folium/templates/leaflet.awesome.rotate.min.css%22/%3E%0A%20%20%20%20%0A%20%20%20%20%20%20%20%20%20%20%20%20%3Cmeta%20name%3D%22viewport%22%20content%3D%22width%3Ddevice-width%2C%0A%20%20%20%20%20%20%20%20%20%20%20%20%20%20%20%20initial-scale%3D1.0%2C%20maximum-scale%3D1.0%2C%20user-scalable%3Dno%22%20/%3E%0A%20%20%20%20%20%20%20%20%20%20%20%20%3Cstyle%3E%0A%20%20%20%20%20%20%20%20%20%20%20%20%20%20%20%20%23map_6e3a79e50a0649f682cc822ffa8d2807%20%7B%0A%20%20%20%20%20%20%20%20%20%20%20%20%20%20%20%20%20%20%20%20position%3A%20relative%3B%0A%20%20%20%20%20%20%20%20%20%20%20%20%20%20%20%20%20%20%20%20width%3A%20100.0%25%3B%0A%20%20%20%20%20%20%20%20%20%20%20%20%20%20%20%20%20%20%20%20height%3A%20100.0%25%3B%0A%20%20%20%20%20%20%20%20%20%20%20%20%20%20%20%20%20%20%20%20left%3A%200.0%25%3B%0A%20%20%20%20%20%20%20%20%20%20%20%20%20%20%20%20%20%20%20%20top%3A%200.0%25%3B%0A%20%20%20%20%20%20%20%20%20%20%20%20%20%20%20%20%7D%0A%20%20%20%20%20%20%20%20%20%20%20%20%3C/style%3E%0A%20%20%20%20%20%20%20%20%0A%3C/head%3E%0A%3Cbody%3E%20%20%20%20%0A%20%20%20%20%0A%20%20%20%20%20%20%20%20%20%20%20%20%3Cdiv%20class%3D%22folium-map%22%20id%3D%22map_6e3a79e50a0649f682cc822ffa8d2807%22%20%3E%3C/div%3E%0A%20%20%20%20%20%20%20%20%0A%3C/body%3E%0A%3Cscript%3E%20%20%20%20%0A%20%20%20%20%0A%20%20%20%20%20%20%20%20%20%20%20%20var%20map_6e3a79e50a0649f682cc822ffa8d2807%20%3D%20L.map%28%0A%20%20%20%20%20%20%20%20%20%20%20%20%20%20%20%20%22map_6e3a79e50a0649f682cc822ffa8d2807%22%2C%0A%20%20%20%20%20%20%20%20%20%20%20%20%20%20%20%20%7B%0A%20%20%20%20%20%20%20%20%20%20%20%20%20%20%20%20%20%20%20%20center%3A%20%5B-112.85%2C%2036.0%5D%2C%0A%20%20%20%20%20%20%20%20%20%20%20%20%20%20%20%20%20%20%20%20crs%3A%20L.CRS.EPSG3857%2C%0A%20%20%20%20%20%20%20%20%20%20%20%20%20%20%20%20%20%20%20%20zoom%3A%209%2C%0A%20%20%20%20%20%20%20%20%20%20%20%20%20%20%20%20%20%20%20%20zoomControl%3A%20true%2C%0A%20%20%20%20%20%20%20%20%20%20%20%20%20%20%20%20%20%20%20%20preferCanvas%3A%20false%2C%0A%20%20%20%20%20%20%20%20%20%20%20%20%20%20%20%20%7D%0A%20%20%20%20%20%20%20%20%20%20%20%20%29%3B%0A%0A%20%20%20%20%20%20%20%20%20%20%20%20%0A%0A%20%20%20%20%20%20%20%20%0A%20%20%20%20%0A%20%20%20%20%20%20%20%20%20%20%20%20var%20tile_layer_c0db328e367f4e71ab21da9cc1e8a679%20%3D%20L.tileLayer%28%0A%20%20%20%20%20%20%20%20%20%20%20%20%20%20%20%20%22https%3A//%7Bs%7D.tile.openstreetmap.org/%7Bz%7D/%7Bx%7D/%7By%7D.png%22%2C%0A%20%20%20%20%20%20%20%20%20%20%20%20%20%20%20%20%7B%22attribution%22%3A%20%22Data%20by%20%5Cu0026copy%3B%20%5Cu003ca%20href%3D%5C%22http%3A//openstreetmap.org%5C%22%5Cu003eOpenStreetMap%5Cu003c/a%5Cu003e%2C%20under%20%5Cu003ca%20href%3D%5C%22http%3A//www.openstreetmap.org/copyright%5C%22%5Cu003eODbL%5Cu003c/a%5Cu003e.%22%2C%20%22detectRetina%22%3A%20false%2C%20%22maxNativeZoom%22%3A%2018%2C%20%22maxZoom%22%3A%2018%2C%20%22minZoom%22%3A%200%2C%20%22noWrap%22%3A%20false%2C%20%22opacity%22%3A%201%2C%20%22subdomains%22%3A%20%22abc%22%2C%20%22tms%22%3A%20false%7D%0A%20%20%20%20%20%20%20%20%20%20%20%20%29.addTo%28map_6e3a79e50a0649f682cc822ffa8d2807%29%3B%0A%20%20%20%20%20%20%20%20%0A%20%20%20%20%0A%20%20%20%20%20%20%20%20%20%20%20%20var%20tile_layer_4354f314ce464ffbbf63ca6d347d3a68%20%3D%20L.tileLayer%28%0A%20%20%20%20%20%20%20%20%20%20%20%20%20%20%20%20%22https%3A//earthengine.googleapis.com/v1alpha/projects/earthengine-legacy/maps/0a0fdfa2ec9fc1cb3968e70ba9fdea34-d51a78c5c26367ca2c29e07b67e720dd/tiles/%7Bz%7D/%7Bx%7D/%7By%7D%22%2C%0A%20%20%20%20%20%20%20%20%20%20%20%20%20%20%20%20%7B%22attribution%22%3A%20%22Google%20Earth%20Engine%22%2C%20%22detectRetina%22%3A%20false%2C%20%22maxNativeZoom%22%3A%2018%2C%20%22maxZoom%22%3A%2018%2C%20%22minZoom%22%3A%200%2C%20%22noWrap%22%3A%20false%2C%20%22opacity%22%3A%201%2C%20%22subdomains%22%3A%20%22abc%22%2C%20%22tms%22%3A%20false%7D%0A%20%20%20%20%20%20%20%20%20%20%20%20%29.addTo%28map_6e3a79e50a0649f682cc822ffa8d2807%29%3B%0A%20%20%20%20%20%20%20%20%0A%3C/script%3E onload=\"this.contentDocument.open();this.contentDocument.write(    decodeURIComponent(this.getAttribute('data-html')));this.contentDocument.close();\" allowfullscreen webkitallowfullscreen mozallowfullscreen></iframe></div></div>"
      ],
      "text/plain": [
       "<folium.folium.Map at 0x7fc6a87f0190>"
      ]
     },
     "metadata": {},
     "output_type": "display_data"
    }
   ],
   "source": [
    "dataset = ee.ImageCollection('HYCOM/sea_temp_salinity').filter(ee.Filter.date('2019-06-01', '2019-07-01'))\n",
    "\n",
    "\n",
    "def map_to_c(image):\n",
    "    return ee.Image(image).multiply(0.001).add(20)\n",
    "\n",
    "dataset = dataset.map(lambda image: map_to_c(image))\n",
    "dataset = dataset.select('salinity_0')\n",
    "\n",
    "vis_params = {\n",
    "    'min': 30,\n",
    "    'max': 40,\n",
    "    'palette': cc.kbc,\n",
    "}\n",
    "\n",
    "# Create a folium map object.\n",
    "my_map = folium.Map(location=[-112.85, 36], zoom_start=9)\n",
    "\n",
    "# Add custom basemaps\n",
    "# basemaps['Google Maps'].add_to(my_map)\n",
    "# basemaps['Google Satellite Hybrid'].add_to(my_map)\n",
    "\n",
    "# Add the elevation model to the map object.\n",
    "my_map.add_ee_layer(dataset, vis_params, 'test')\n",
    "# Display the map.\n",
    "display(my_map)"
   ]
  },
  {
   "cell_type": "code",
   "execution_count": 49,
   "id": "9072c042-e4e9-4d32-a8c9-5e7accdad384",
   "metadata": {
    "execution": {
     "iopub.execute_input": "2021-07-14T18:55:18.302282Z",
     "iopub.status.busy": "2021-07-14T18:55:18.301854Z",
     "iopub.status.idle": "2021-07-14T18:55:18.310534Z",
     "shell.execute_reply": "2021-07-14T18:55:18.309647Z",
     "shell.execute_reply.started": "2021-07-14T18:55:18.302233Z"
    },
    "tags": []
   },
   "outputs": [
    {
     "data": {
      "text/plain": [
       "[('#00004e', 20.0),\n",
       " ('#0905b9', 18.046875),\n",
       " ('#2d42fa', 16.09375),\n",
       " ('#2e8afd', 14.140625),\n",
       " ('#28c8fb', 12.1875),\n",
       " ('#a3faf6', 10.234375)]"
      ]
     },
     "execution_count": 49,
     "metadata": {},
     "output_type": "execute_result"
    }
   ],
   "source": [
    "CONST = (30-40)/256\n",
    "# creating legend to overlay\n",
    "vals = [i*CONST for i in range(0, 257)]\n",
    "legend =[(cc.kbc[i], vals[i]+20) for i in [0,50,100,150,200,250]]\n",
    "legend"
   ]
  }
 ],
 "metadata": {
  "kernelspec": {
   "display_name": "Python 3",
   "language": "python",
   "name": "python3"
  },
  "language_info": {
   "codemirror_mode": {
    "name": "ipython",
    "version": 3
   },
   "file_extension": ".py",
   "mimetype": "text/x-python",
   "name": "python",
   "nbconvert_exporter": "python",
   "pygments_lexer": "ipython3",
   "version": "3.8.10"
  }
 },
 "nbformat": 4,
 "nbformat_minor": 5
}
