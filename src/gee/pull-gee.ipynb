{
 "cells": [
  {
   "cell_type": "code",
   "execution_count": 1,
   "id": "9a8174f3-42ca-4414-85e9-1591ae06cc31",
   "metadata": {
    "execution": {
     "iopub.execute_input": "2021-06-04T14:10:45.658795Z",
     "iopub.status.busy": "2021-06-04T14:10:45.658345Z",
     "iopub.status.idle": "2021-06-04T14:11:04.079562Z",
     "shell.execute_reply": "2021-06-04T14:11:04.078955Z",
     "shell.execute_reply.started": "2021-06-04T14:10:45.658707Z"
    },
    "tags": []
   },
   "outputs": [
    {
     "data": {
      "text/html": [
       "<p>To authorize access needed by Earth Engine, open the following\n",
       "        URL in a web browser and follow the instructions:</p>\n",
       "        <p><a href=https://accounts.google.com/o/oauth2/auth?client_id=517222506229-vsmmajv00ul0bs7p89v5m89qs8eb9359.apps.googleusercontent.com&scope=https%3A%2F%2Fwww.googleapis.com%2Fauth%2Fearthengine+https%3A%2F%2Fwww.googleapis.com%2Fauth%2Fdevstorage.full_control&redirect_uri=urn%3Aietf%3Awg%3Aoauth%3A2.0%3Aoob&response_type=code&code_challenge=kFP_00nL-KVluwEgWyX-HCnCDdxB2ZHXgVVH9Ij_zwg&code_challenge_method=S256>https://accounts.google.com/o/oauth2/auth?client_id=517222506229-vsmmajv00ul0bs7p89v5m89qs8eb9359.apps.googleusercontent.com&scope=https%3A%2F%2Fwww.googleapis.com%2Fauth%2Fearthengine+https%3A%2F%2Fwww.googleapis.com%2Fauth%2Fdevstorage.full_control&redirect_uri=urn%3Aietf%3Awg%3Aoauth%3A2.0%3Aoob&response_type=code&code_challenge=kFP_00nL-KVluwEgWyX-HCnCDdxB2ZHXgVVH9Ij_zwg&code_challenge_method=S256</a></p>\n",
       "        <p>The authorization workflow will generate a code, which you\n",
       "        should paste in the box below</p>\n",
       "        "
      ],
      "text/plain": [
       "<IPython.core.display.HTML object>"
      ]
     },
     "metadata": {},
     "output_type": "display_data"
    },
    {
     "name": "stdin",
     "output_type": "stream",
     "text": [
      "Enter verification code:  4/1AY0e-g4R8JGH7_6FeaLv7TISRmJRd0Pfu8Xy1uNhZFbvm4bPU2JK4c4lIZQ\n"
     ]
    },
    {
     "name": "stdout",
     "output_type": "stream",
     "text": [
      "\n",
      "Successfully saved authorization token.\n"
     ]
    }
   ],
   "source": [
    "try: \n",
    "    import ee\n",
    "except Exception:\n",
    "    !pip install earthengine-api --upgrade    \n",
    "finally:\n",
    "    import ee    \n",
    "    ee.Authenticate()\n",
    "    ee.Initialize()"
   ]
  },
  {
   "cell_type": "code",
   "execution_count": 2,
   "id": "8a7f7b4e-73fd-4e52-9fc5-5c8780df8e82",
   "metadata": {
    "execution": {
     "iopub.execute_input": "2021-06-04T14:11:10.537243Z",
     "iopub.status.busy": "2021-06-04T14:11:10.537003Z",
     "iopub.status.idle": "2021-06-04T14:11:27.409993Z",
     "shell.execute_reply": "2021-06-04T14:11:27.409367Z",
     "shell.execute_reply.started": "2021-06-04T14:11:10.537216Z"
    },
    "tags": []
   },
   "outputs": [],
   "source": [
    "from IPython.display import Image\n",
    "import pprint\n",
    "import matplotlib.pyplot as plt\n",
    "import cudf as pd\n",
    "import os"
   ]
  },
  {
   "cell_type": "code",
   "execution_count": 102,
   "id": "a03b8449-8de7-46b0-bcce-e6187afe338b",
   "metadata": {
    "execution": {
     "iopub.execute_input": "2021-06-04T15:17:24.896614Z",
     "iopub.status.busy": "2021-06-04T15:17:24.896420Z",
     "iopub.status.idle": "2021-06-04T15:17:25.733228Z",
     "shell.execute_reply": "2021-06-04T15:17:25.731125Z",
     "shell.execute_reply.started": "2021-06-04T15:17:24.896593Z"
    },
    "tags": []
   },
   "outputs": [
    {
     "data": {
      "text/plain": [
       "{'salinity_0': 35.763,\n",
       " 'salinity_10': 35.765,\n",
       " 'salinity_100': 36.432,\n",
       " 'salinity_1000': 34.989000000000004,\n",
       " 'salinity_12': 35.765,\n",
       " 'salinity_125': 36.697,\n",
       " 'salinity_1250': 34.995000000000005,\n",
       " 'salinity_15': 35.766,\n",
       " 'salinity_150': 36.855000000000004,\n",
       " 'salinity_1500': 35.052,\n",
       " 'salinity_2': 35.765,\n",
       " 'salinity_20': 35.768,\n",
       " 'salinity_200': 36.802,\n",
       " 'salinity_2000': 35.064,\n",
       " 'salinity_25': 35.775999999999996,\n",
       " 'salinity_250': 36.622,\n",
       " 'salinity_2500': 35.011,\n",
       " 'salinity_30': 35.786,\n",
       " 'salinity_300': 36.47,\n",
       " 'salinity_3000': 34.972,\n",
       " 'salinity_35': 35.799,\n",
       " 'salinity_350': 36.329,\n",
       " 'salinity_4': 35.765,\n",
       " 'salinity_40': 35.815,\n",
       " 'salinity_400': 36.144999999999996,\n",
       " 'salinity_4000': 34.902,\n",
       " 'salinity_45': 35.832,\n",
       " 'salinity_50': 35.85,\n",
       " 'salinity_500': 35.769999999999996,\n",
       " 'salinity_5000': 34.902,\n",
       " 'salinity_6': 35.765,\n",
       " 'salinity_60': 35.914,\n",
       " 'salinity_600': 35.476,\n",
       " 'salinity_70': 36.037,\n",
       " 'salinity_700': 35.206,\n",
       " 'salinity_8': 35.765,\n",
       " 'salinity_80': 36.184,\n",
       " 'salinity_800': 35.06,\n",
       " 'salinity_90': 36.311,\n",
       " 'salinity_900': 35.013,\n",
       " 'water_temp_0': 26.599,\n",
       " 'water_temp_10': 26.521,\n",
       " 'water_temp_100': 25.604,\n",
       " 'water_temp_1000': 5.965999999999999,\n",
       " 'water_temp_12': 26.523,\n",
       " 'water_temp_125': 24.403,\n",
       " 'water_temp_1250': 4.666,\n",
       " 'water_temp_15': 26.526,\n",
       " 'water_temp_150': 23.144,\n",
       " 'water_temp_1500': 4.25,\n",
       " 'water_temp_2': 26.493000000000002,\n",
       " 'water_temp_20': 26.528,\n",
       " 'water_temp_200': 20.605,\n",
       " 'water_temp_2000': 3.7349999999999994,\n",
       " 'water_temp_25': 26.526,\n",
       " 'water_temp_250': 18.874,\n",
       " 'water_temp_2500': 3.3580000000000005,\n",
       " 'water_temp_30': 26.515,\n",
       " 'water_temp_300': 17.616,\n",
       " 'water_temp_3000': 2.9899999999999984,\n",
       " 'water_temp_35': 26.5,\n",
       " 'water_temp_350': 16.727,\n",
       " 'water_temp_4': 26.505,\n",
       " 'water_temp_40': 26.482,\n",
       " 'water_temp_400': 15.652000000000001,\n",
       " 'water_temp_4000': 2.355999999999998,\n",
       " 'water_temp_45': 26.459,\n",
       " 'water_temp_50': 26.432000000000002,\n",
       " 'water_temp_500': 13.356,\n",
       " 'water_temp_5000': 2.355999999999998,\n",
       " 'water_temp_6': 26.512,\n",
       " 'water_temp_60': 26.357,\n",
       " 'water_temp_600': 11.126,\n",
       " 'water_temp_70': 26.276,\n",
       " 'water_temp_700': 9.228,\n",
       " 'water_temp_8': 26.517,\n",
       " 'water_temp_80': 26.137999999999998,\n",
       " 'water_temp_800': 7.955,\n",
       " 'water_temp_90': 25.924,\n",
       " 'water_temp_900': 6.884}"
      ]
     },
     "execution_count": 102,
     "metadata": {},
     "output_type": "execute_result"
    }
   ],
   "source": [
    "single_point = ee.Geometry.Point([-68.3182,19.1665])\n",
    "\n",
    "dataset = ee.ImageCollection(\"HYCOM/sea_temp_salinity\").filter(ee.Filter.date('2019-01-10', '2019-01-11')).filter(ee.Filter.geometry(single_point))\n",
    "size = dataset.size().getInfo()\n",
    "dataset = dataset.toList(size)\n",
    "# print(ee.Image(dataset.get(0)).getInfo()['bands']['crs_transform'])\n",
    "\n",
    "# image = ee.Image('HYCOM/sea_temp_salinity/2020030200').multiply(0.001).add(20)\n",
    "image = ee.Image(dataset.get(0)).multiply(0.001).add(20)\n",
    "\n",
    "image.reduceRegion(ee.Reducer.mean(), geometry=single_point).getInfo()"
   ]
  },
  {
   "cell_type": "markdown",
   "id": "62401c0c-9c55-443e-a4de-590d1ae051bc",
   "metadata": {
    "execution": {
     "iopub.execute_input": "2021-06-03T17:57:40.288803Z",
     "iopub.status.busy": "2021-06-03T17:57:40.288525Z",
     "iopub.status.idle": "2021-06-03T17:57:40.293688Z",
     "shell.execute_reply": "2021-06-03T17:57:40.292954Z",
     "shell.execute_reply.started": "2021-06-03T17:57:40.288772Z"
    },
    "tags": []
   },
   "source": [
    "Load Equinox Data"
   ]
  },
  {
   "cell_type": "code",
   "execution_count": 3,
   "id": "a2619107-4fae-4544-9ec2-a73b20392008",
   "metadata": {
    "execution": {
     "iopub.execute_input": "2021-06-04T14:11:27.411442Z",
     "iopub.status.busy": "2021-06-04T14:11:27.411162Z",
     "iopub.status.idle": "2021-06-04T14:11:34.099733Z",
     "shell.execute_reply": "2021-06-04T14:11:34.098626Z",
     "shell.execute_reply.started": "2021-06-04T14:11:27.411407Z"
    },
    "tags": []
   },
   "outputs": [
    {
     "data": {
      "text/html": [
       "<div>\n",
       "<style scoped>\n",
       "    .dataframe tbody tr th:only-of-type {\n",
       "        vertical-align: middle;\n",
       "    }\n",
       "\n",
       "    .dataframe tbody tr th {\n",
       "        vertical-align: top;\n",
       "    }\n",
       "\n",
       "    .dataframe thead th {\n",
       "        text-align: right;\n",
       "    }\n",
       "</style>\n",
       "<table border=\"1\" class=\"dataframe\">\n",
       "  <thead>\n",
       "    <tr style=\"text-align: right;\">\n",
       "      <th></th>\n",
       "      <th>DATE_UTC</th>\n",
       "      <th>LAT</th>\n",
       "      <th>LONG</th>\n",
       "    </tr>\n",
       "  </thead>\n",
       "  <tbody>\n",
       "    <tr>\n",
       "      <th>0</th>\n",
       "      <td>2019-01-10</td>\n",
       "      <td>19.1665</td>\n",
       "      <td>-68.3182</td>\n",
       "    </tr>\n",
       "    <tr>\n",
       "      <th>1</th>\n",
       "      <td>2019-01-10</td>\n",
       "      <td>19.1797</td>\n",
       "      <td>-68.3203</td>\n",
       "    </tr>\n",
       "    <tr>\n",
       "      <th>2</th>\n",
       "      <td>2019-01-10</td>\n",
       "      <td>19.1927</td>\n",
       "      <td>-68.3223</td>\n",
       "    </tr>\n",
       "    <tr>\n",
       "      <th>3</th>\n",
       "      <td>2019-01-10</td>\n",
       "      <td>19.2058</td>\n",
       "      <td>-68.3245</td>\n",
       "    </tr>\n",
       "    <tr>\n",
       "      <th>4</th>\n",
       "      <td>2019-01-10</td>\n",
       "      <td>19.2187</td>\n",
       "      <td>-68.3267</td>\n",
       "    </tr>\n",
       "  </tbody>\n",
       "</table>\n",
       "</div>"
      ],
      "text/plain": [
       "     DATE_UTC      LAT     LONG\n",
       "0  2019-01-10  19.1665 -68.3182\n",
       "1  2019-01-10  19.1797 -68.3203\n",
       "2  2019-01-10  19.1927 -68.3223\n",
       "3  2019-01-10  19.2058 -68.3245\n",
       "4  2019-01-10  19.2187 -68.3267"
      ]
     },
     "execution_count": 3,
     "metadata": {},
     "output_type": "execute_result"
    }
   ],
   "source": [
    "RESULTS_PATH = '../../results/equinox'\n",
    "\n",
    "df = pd.read_csv(os.path.join(RESULTS_PATH, 'df_latlon.csv'))\n",
    "df.head()"
   ]
  },
  {
   "cell_type": "markdown",
   "id": "091a1481-d8df-4ae9-bc1d-19ab7e9c5fd9",
   "metadata": {},
   "source": [
    "## Template/Documentation for basic Image Getting"
   ]
  },
  {
   "cell_type": "code",
   "execution_count": null,
   "id": "db41d04f-0cca-4ee9-8074-b69fce4c0582",
   "metadata": {
    "tags": []
   },
   "outputs": [],
   "source": [
    "# Load an image.\n",
    "image = ee.Image('LANDSAT/LC08/C01/T1/LC08_044034_20140318')\n",
    "\n",
    "# All metadata.\n",
    "print('All metadata:')\n",
    "pprint.pprint(image.getInfo())\n",
    "\n",
    "# Get information about the bands as a list.\n",
    "band_names = image.bandNames()\n",
    "print('Band names:', band_names.getInfo())  # ee.List of band names\n",
    "\n",
    "# Get projection information from band 1.\n",
    "b1_proj = image.select('B1').projection()\n",
    "print('Band 1 projection:', b1_proj.getInfo())  # ee.Projection object\n",
    "\n",
    "# Get scale (in meters) information from band 1.\n",
    "b1_scale = image.select('B1').projection().nominalScale()\n",
    "print('Band 1 scale:', b1_scale.getInfo())  # ee.Number\n",
    "\n",
    "# Note that different bands can have different projections and scale.\n",
    "b8_scale = image.select('B8').projection().nominalScale()\n",
    "print('Band 8 scale:', b8_scale.getInfo())  # ee.Number\n",
    "\n",
    "# Get a list of all metadata properties.\n",
    "properties = image.propertyNames()\n",
    "print('Metadata properties:',\n",
    "      properties.getInfo())  # ee.List of metadata properties\n",
    "\n",
    "# Get a specific metadata property.\n",
    "cloudiness = image.get('CLOUD_COVER')\n",
    "print('CLOUD_COVER:', cloudiness.getInfo())  # ee.Number\n",
    "\n",
    "# Get version number (ingestion timestamp as microseconds since Unix epoch).\n",
    "version = image.get('system:version')\n",
    "print('Version:', version.getInfo())  # ee.Number\n",
    "print('Version (as ingestion date):',\n",
    "      ee.Date(ee.Number(version).divide(1000)).format().getInfo())  # ee.Date\n",
    "\n",
    "# Get the timestamp.\n",
    "ee_date = ee.Date(image.get('system:time_start'))\n",
    "print('Timestamp:', ee_date.getInfo())  # ee.Date\n",
    "\n",
    "# Date objects transferred to the client are milliseconds since UNIX epoch;\n",
    "# convert to human readable date with ee.Date.format().\n",
    "print('Datetime:', ee_date.format().getInfo())  # ISO standard date string"
   ]
  },
  {
   "cell_type": "code",
   "execution_count": null,
   "id": "acf79966-1232-438f-88e8-15789cde693c",
   "metadata": {
    "tags": []
   },
   "outputs": [],
   "source": [
    "import datetime\n",
    "import csv\n",
    "import cudf as pd\n",
    "from tqdm import tqdm\n",
    "\n",
    "ee.Initialize()\n",
    "\n",
    "RESULTS_PATH = '../../results/equinox'\n",
    "\n",
    "df = pd.read_csv(os.path.join(RESULTS_PATH, 'df_latlon.csv'))\n",
    "\n",
    "IMAGE_COLLECTION = 'HYCOM/sea_temp_salinity'\n",
    "\n",
    "file = open(\"../../data/HYCOM.csv\", \"a\", newline='')\n",
    "writer = csv.writer(file)\n",
    "\n",
    "# write headers\n",
    "writer.writerow(['start_date', 'lat', 'lon', 'water_temp_0', 'salinity_0' ,'water_temp_2','salinity_2','water_temp_4','salinity_4','water_temp_4' ,'salinity_4','water_temp_6', 'salinity_6', 'water_temp_8', 'salinity_8'])\n",
    "\n",
    "data = []\n",
    "\n",
    "for index, row in tqdm(df.to_pandas().iterrows(), desc=str([start_date, lat, lon, water_temp_0, salinity_0])):\n",
    "    start_date = str(row['DATE_UTC'])\n",
    "    end_date = (datetime.datetime.strptime(start_date, '%Y-%m-%d') + datetime.timedelta(days=1)).strftime('%Y-%m-%d')\n",
    "    lat, lon = row['LAT'], row['LONG']\n",
    "    point = ee.Geometry.Point([lon, lat])\n",
    "    \n",
    "    collection = ee.ImageCollection(IMAGE_COLLECTION).filter(ee.Filter.geometry(point)).filter(ee.Filter.date(start_date, end_date))\n",
    "    size = collection.size().getInfo()    \n",
    "    collection = collection.toList(size)\n",
    "    try:\n",
    "        for idx in range(size):\n",
    "\n",
    "            \n",
    "            image = ee.Image(collection.get(idx)).multiply(0.001).add(20)\n",
    "            band_info = image.reduceRegion(ee.Reducer.mean(), geometry=point).getInfo()\n",
    "            \n",
    "            water_temp_0 = band_info['water_temp_0']\n",
    "            salinity_0 = band_info['salinity_0']\n",
    "            water_temp_2 =  band_info['water_temp_2']\n",
    "            salinity_2 =  band_info['salinity_2']\n",
    "            water_temp_4 =  band_info['water_temp_4']\n",
    "            salinity_4 =  band_info['salinity_4']\n",
    "            water_temp_6 =  band_info['water_temp_6']\n",
    "            salinity_6 = band_info['salinity_6']\n",
    "            water_temp_8 =  band_info['water_temp_8']\n",
    "            salinity_8 =  band_info['salinity_8']               \n",
    "            writer.writerow([start_date, lat, lon, water_temp_0, salinity_0 ,water_temp_2,salinity_2,water_temp_4,salinity_4,water_temp_4 ,salinity_4,water_temp_6, salinity_6, water_temp_8, salinity_8])\n",
    "            print(str([start_date, lat, lon, water_temp_0, salinity_0]))\n",
    "            \n",
    "    except Exception as e:\n",
    "        print(f'Error: {e}')\n",
    "        continue"
   ]
  },
  {
   "cell_type": "code",
   "execution_count": 106,
   "id": "dbbfe368-c884-4ab7-9bd9-adb01ab3dc32",
   "metadata": {
    "execution": {
     "iopub.execute_input": "2021-06-04T15:21:19.065628Z",
     "iopub.status.busy": "2021-06-04T15:21:19.065354Z",
     "iopub.status.idle": "2021-06-04T15:21:19.935450Z",
     "shell.execute_reply": "2021-06-04T15:21:19.934327Z",
     "shell.execute_reply.started": "2021-06-04T15:21:19.065598Z"
    },
    "tags": []
   },
   "outputs": [],
   "source": [
    "!xdg-open ."
   ]
  }
 ],
 "metadata": {
  "kernelspec": {
   "display_name": "Python 3",
   "language": "python",
   "name": "python3"
  },
  "language_info": {
   "codemirror_mode": {
    "name": "ipython",
    "version": 3
   },
   "file_extension": ".py",
   "mimetype": "text/x-python",
   "name": "python",
   "nbconvert_exporter": "python",
   "pygments_lexer": "ipython3",
   "version": "3.8.10"
  }
 },
 "nbformat": 4,
 "nbformat_minor": 5
}
